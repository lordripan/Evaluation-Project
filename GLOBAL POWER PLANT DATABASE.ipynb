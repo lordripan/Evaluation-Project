{
 "cells": [
  {
   "cell_type": "code",
   "execution_count": 159,
   "id": "129e3aff",
   "metadata": {},
   "outputs": [],
   "source": [
    "import numpy as np\n",
    "import pandas as pd\n",
    "import matplotlib.pyplot as plt\n",
    "import seaborn as sns\n",
    "from matplotlib import style\n",
    "style.use('seaborn')\n",
    "import warnings\n",
    "warnings.filterwarnings('ignore')\n",
    "from sklearn.metrics import accuracy_score,classification_report,confusion_matrix,roc_auc_score,roc_curve\n",
    "from sklearn.preprocessing import LabelEncoder,StandardScaler\n",
    "from sklearn.model_selection import cross_val_score,train_test_split,GridSearchCV\n",
    "from sklearn.decomposition import PCA\n",
    "from scipy.stats import zscore\n",
    "from sklearn.metrics import mean_absolute_error,r2_score,mean_squared_error\n",
    "from sklearn import metrics\n",
    "from sklearn.impute import KNNImputer\n",
    "from sklearn.model_selection import train_test_split"
   ]
  },
  {
   "cell_type": "code",
   "execution_count": 160,
   "id": "d8b3883f",
   "metadata": {},
   "outputs": [],
   "source": [
    "df=pd.read_csv(r'C:\\Users\\OM RAJ PANDEY\\Desktop\\jupyter\\global-power-plant-database-master\\global-power-plant-database-master\\source_databases_csv\\database_IND.csv')"
   ]
  },
  {
   "cell_type": "code",
   "execution_count": 161,
   "id": "bc385ecb",
   "metadata": {},
   "outputs": [
    {
     "data": {
      "text/html": [
       "<div>\n",
       "<style scoped>\n",
       "    .dataframe tbody tr th:only-of-type {\n",
       "        vertical-align: middle;\n",
       "    }\n",
       "\n",
       "    .dataframe tbody tr th {\n",
       "        vertical-align: top;\n",
       "    }\n",
       "\n",
       "    .dataframe thead th {\n",
       "        text-align: right;\n",
       "    }\n",
       "</style>\n",
       "<table border=\"1\" class=\"dataframe\">\n",
       "  <thead>\n",
       "    <tr style=\"text-align: right;\">\n",
       "      <th></th>\n",
       "      <th>country</th>\n",
       "      <th>country_long</th>\n",
       "      <th>name</th>\n",
       "      <th>gppd_idnr</th>\n",
       "      <th>capacity_mw</th>\n",
       "      <th>latitude</th>\n",
       "      <th>longitude</th>\n",
       "      <th>primary_fuel</th>\n",
       "      <th>other_fuel1</th>\n",
       "      <th>other_fuel2</th>\n",
       "      <th>...</th>\n",
       "      <th>year_of_capacity_data</th>\n",
       "      <th>generation_gwh_2013</th>\n",
       "      <th>generation_gwh_2014</th>\n",
       "      <th>generation_gwh_2015</th>\n",
       "      <th>generation_gwh_2016</th>\n",
       "      <th>generation_gwh_2017</th>\n",
       "      <th>generation_gwh_2018</th>\n",
       "      <th>generation_gwh_2019</th>\n",
       "      <th>generation_data_source</th>\n",
       "      <th>estimated_generation_gwh</th>\n",
       "    </tr>\n",
       "  </thead>\n",
       "  <tbody>\n",
       "    <tr>\n",
       "      <th>0</th>\n",
       "      <td>IND</td>\n",
       "      <td>India</td>\n",
       "      <td>ACME Solar Tower</td>\n",
       "      <td>WRI1020239</td>\n",
       "      <td>2.5</td>\n",
       "      <td>28.1839</td>\n",
       "      <td>73.2407</td>\n",
       "      <td>Solar</td>\n",
       "      <td>NaN</td>\n",
       "      <td>NaN</td>\n",
       "      <td>...</td>\n",
       "      <td>NaN</td>\n",
       "      <td>NaN</td>\n",
       "      <td>NaN</td>\n",
       "      <td>NaN</td>\n",
       "      <td>NaN</td>\n",
       "      <td>NaN</td>\n",
       "      <td>NaN</td>\n",
       "      <td>NaN</td>\n",
       "      <td>NaN</td>\n",
       "      <td>NaN</td>\n",
       "    </tr>\n",
       "    <tr>\n",
       "      <th>1</th>\n",
       "      <td>IND</td>\n",
       "      <td>India</td>\n",
       "      <td>ADITYA CEMENT WORKS</td>\n",
       "      <td>WRI1019881</td>\n",
       "      <td>98.0</td>\n",
       "      <td>24.7663</td>\n",
       "      <td>74.6090</td>\n",
       "      <td>Coal</td>\n",
       "      <td>NaN</td>\n",
       "      <td>NaN</td>\n",
       "      <td>...</td>\n",
       "      <td>NaN</td>\n",
       "      <td>NaN</td>\n",
       "      <td>NaN</td>\n",
       "      <td>NaN</td>\n",
       "      <td>NaN</td>\n",
       "      <td>NaN</td>\n",
       "      <td>NaN</td>\n",
       "      <td>NaN</td>\n",
       "      <td>NaN</td>\n",
       "      <td>NaN</td>\n",
       "    </tr>\n",
       "    <tr>\n",
       "      <th>2</th>\n",
       "      <td>IND</td>\n",
       "      <td>India</td>\n",
       "      <td>AES Saurashtra Windfarms</td>\n",
       "      <td>WRI1026669</td>\n",
       "      <td>39.2</td>\n",
       "      <td>21.9038</td>\n",
       "      <td>69.3732</td>\n",
       "      <td>Wind</td>\n",
       "      <td>NaN</td>\n",
       "      <td>NaN</td>\n",
       "      <td>...</td>\n",
       "      <td>NaN</td>\n",
       "      <td>NaN</td>\n",
       "      <td>NaN</td>\n",
       "      <td>NaN</td>\n",
       "      <td>NaN</td>\n",
       "      <td>NaN</td>\n",
       "      <td>NaN</td>\n",
       "      <td>NaN</td>\n",
       "      <td>NaN</td>\n",
       "      <td>NaN</td>\n",
       "    </tr>\n",
       "    <tr>\n",
       "      <th>3</th>\n",
       "      <td>IND</td>\n",
       "      <td>India</td>\n",
       "      <td>AGARTALA GT</td>\n",
       "      <td>IND0000001</td>\n",
       "      <td>135.0</td>\n",
       "      <td>23.8712</td>\n",
       "      <td>91.3602</td>\n",
       "      <td>Gas</td>\n",
       "      <td>NaN</td>\n",
       "      <td>NaN</td>\n",
       "      <td>...</td>\n",
       "      <td>2019.0</td>\n",
       "      <td>NaN</td>\n",
       "      <td>617.789264</td>\n",
       "      <td>843.747</td>\n",
       "      <td>886.004428</td>\n",
       "      <td>663.774500</td>\n",
       "      <td>626.239128</td>\n",
       "      <td>NaN</td>\n",
       "      <td>Central Electricity Authority</td>\n",
       "      <td>NaN</td>\n",
       "    </tr>\n",
       "    <tr>\n",
       "      <th>4</th>\n",
       "      <td>IND</td>\n",
       "      <td>India</td>\n",
       "      <td>AKALTARA TPP</td>\n",
       "      <td>IND0000002</td>\n",
       "      <td>1800.0</td>\n",
       "      <td>21.9603</td>\n",
       "      <td>82.4091</td>\n",
       "      <td>Coal</td>\n",
       "      <td>Oil</td>\n",
       "      <td>NaN</td>\n",
       "      <td>...</td>\n",
       "      <td>2019.0</td>\n",
       "      <td>NaN</td>\n",
       "      <td>3035.550000</td>\n",
       "      <td>5916.370</td>\n",
       "      <td>6243.000000</td>\n",
       "      <td>5385.579736</td>\n",
       "      <td>7279.000000</td>\n",
       "      <td>NaN</td>\n",
       "      <td>Central Electricity Authority</td>\n",
       "      <td>NaN</td>\n",
       "    </tr>\n",
       "  </tbody>\n",
       "</table>\n",
       "<p>5 rows × 27 columns</p>\n",
       "</div>"
      ],
      "text/plain": [
       "  country country_long                      name   gppd_idnr  capacity_mw  \\\n",
       "0     IND        India          ACME Solar Tower  WRI1020239          2.5   \n",
       "1     IND        India       ADITYA CEMENT WORKS  WRI1019881         98.0   \n",
       "2     IND        India  AES Saurashtra Windfarms  WRI1026669         39.2   \n",
       "3     IND        India               AGARTALA GT  IND0000001        135.0   \n",
       "4     IND        India              AKALTARA TPP  IND0000002       1800.0   \n",
       "\n",
       "   latitude  longitude primary_fuel other_fuel1 other_fuel2  ...  \\\n",
       "0   28.1839    73.2407        Solar         NaN         NaN  ...   \n",
       "1   24.7663    74.6090         Coal         NaN         NaN  ...   \n",
       "2   21.9038    69.3732         Wind         NaN         NaN  ...   \n",
       "3   23.8712    91.3602          Gas         NaN         NaN  ...   \n",
       "4   21.9603    82.4091         Coal         Oil         NaN  ...   \n",
       "\n",
       "   year_of_capacity_data  generation_gwh_2013 generation_gwh_2014  \\\n",
       "0                    NaN                  NaN                 NaN   \n",
       "1                    NaN                  NaN                 NaN   \n",
       "2                    NaN                  NaN                 NaN   \n",
       "3                 2019.0                  NaN          617.789264   \n",
       "4                 2019.0                  NaN         3035.550000   \n",
       "\n",
       "  generation_gwh_2015 generation_gwh_2016 generation_gwh_2017  \\\n",
       "0                 NaN                 NaN                 NaN   \n",
       "1                 NaN                 NaN                 NaN   \n",
       "2                 NaN                 NaN                 NaN   \n",
       "3             843.747          886.004428          663.774500   \n",
       "4            5916.370         6243.000000         5385.579736   \n",
       "\n",
       "   generation_gwh_2018  generation_gwh_2019         generation_data_source  \\\n",
       "0                  NaN                  NaN                            NaN   \n",
       "1                  NaN                  NaN                            NaN   \n",
       "2                  NaN                  NaN                            NaN   \n",
       "3           626.239128                  NaN  Central Electricity Authority   \n",
       "4          7279.000000                  NaN  Central Electricity Authority   \n",
       "\n",
       "   estimated_generation_gwh  \n",
       "0                       NaN  \n",
       "1                       NaN  \n",
       "2                       NaN  \n",
       "3                       NaN  \n",
       "4                       NaN  \n",
       "\n",
       "[5 rows x 27 columns]"
      ]
     },
     "execution_count": 161,
     "metadata": {},
     "output_type": "execute_result"
    }
   ],
   "source": [
    "df.head()"
   ]
  },
  {
   "cell_type": "code",
   "execution_count": 162,
   "id": "9bc8a312",
   "metadata": {},
   "outputs": [
    {
     "data": {
      "text/plain": [
       "(907, 27)"
      ]
     },
     "execution_count": 162,
     "metadata": {},
     "output_type": "execute_result"
    }
   ],
   "source": [
    "df.shape"
   ]
  },
  {
   "cell_type": "code",
   "execution_count": 163,
   "id": "f283609a",
   "metadata": {},
   "outputs": [
    {
     "data": {
      "text/plain": [
       "country                       0\n",
       "country_long                  0\n",
       "name                          0\n",
       "gppd_idnr                     0\n",
       "capacity_mw                   0\n",
       "latitude                     46\n",
       "longitude                    46\n",
       "primary_fuel                  0\n",
       "other_fuel1                 709\n",
       "other_fuel2                 906\n",
       "other_fuel3                 907\n",
       "commissioning_year          380\n",
       "owner                       565\n",
       "source                        0\n",
       "url                           0\n",
       "geolocation_source           19\n",
       "wepp_id                     907\n",
       "year_of_capacity_data       388\n",
       "generation_gwh_2013         907\n",
       "generation_gwh_2014         509\n",
       "generation_gwh_2015         485\n",
       "generation_gwh_2016         473\n",
       "generation_gwh_2017         467\n",
       "generation_gwh_2018         459\n",
       "generation_gwh_2019         907\n",
       "generation_data_source      458\n",
       "estimated_generation_gwh    907\n",
       "dtype: int64"
      ]
     },
     "execution_count": 163,
     "metadata": {},
     "output_type": "execute_result"
    }
   ],
   "source": [
    "df.isnull().sum()"
   ]
  },
  {
   "cell_type": "code",
   "execution_count": 164,
   "id": "9e5971f5",
   "metadata": {},
   "outputs": [
    {
     "name": "stdout",
     "output_type": "stream",
     "text": [
      "<class 'pandas.core.frame.DataFrame'>\n",
      "RangeIndex: 907 entries, 0 to 906\n",
      "Data columns (total 27 columns):\n",
      " #   Column                    Non-Null Count  Dtype  \n",
      "---  ------                    --------------  -----  \n",
      " 0   country                   907 non-null    object \n",
      " 1   country_long              907 non-null    object \n",
      " 2   name                      907 non-null    object \n",
      " 3   gppd_idnr                 907 non-null    object \n",
      " 4   capacity_mw               907 non-null    float64\n",
      " 5   latitude                  861 non-null    float64\n",
      " 6   longitude                 861 non-null    float64\n",
      " 7   primary_fuel              907 non-null    object \n",
      " 8   other_fuel1               198 non-null    object \n",
      " 9   other_fuel2               1 non-null      object \n",
      " 10  other_fuel3               0 non-null      float64\n",
      " 11  commissioning_year        527 non-null    float64\n",
      " 12  owner                     342 non-null    object \n",
      " 13  source                    907 non-null    object \n",
      " 14  url                       907 non-null    object \n",
      " 15  geolocation_source        888 non-null    object \n",
      " 16  wepp_id                   0 non-null      float64\n",
      " 17  year_of_capacity_data     519 non-null    float64\n",
      " 18  generation_gwh_2013       0 non-null      float64\n",
      " 19  generation_gwh_2014       398 non-null    float64\n",
      " 20  generation_gwh_2015       422 non-null    float64\n",
      " 21  generation_gwh_2016       434 non-null    float64\n",
      " 22  generation_gwh_2017       440 non-null    float64\n",
      " 23  generation_gwh_2018       448 non-null    float64\n",
      " 24  generation_gwh_2019       0 non-null      float64\n",
      " 25  generation_data_source    449 non-null    object \n",
      " 26  estimated_generation_gwh  0 non-null      float64\n",
      "dtypes: float64(15), object(12)\n",
      "memory usage: 191.4+ KB\n"
     ]
    }
   ],
   "source": [
    "df.info()"
   ]
  },
  {
   "cell_type": "markdown",
   "id": "733f62b2",
   "metadata": {},
   "source": [
    "# Exploratory data analysis"
   ]
  },
  {
   "cell_type": "code",
   "execution_count": 165,
   "id": "99934907",
   "metadata": {},
   "outputs": [
    {
     "data": {
      "text/plain": [
       "Index(['country', 'country_long', 'name', 'gppd_idnr', 'capacity_mw',\n",
       "       'latitude', 'longitude', 'primary_fuel', 'other_fuel1', 'other_fuel2',\n",
       "       'other_fuel3', 'commissioning_year', 'owner', 'source', 'url',\n",
       "       'geolocation_source', 'wepp_id', 'year_of_capacity_data',\n",
       "       'generation_gwh_2013', 'generation_gwh_2014', 'generation_gwh_2015',\n",
       "       'generation_gwh_2016', 'generation_gwh_2017', 'generation_gwh_2018',\n",
       "       'generation_gwh_2019', 'generation_data_source',\n",
       "       'estimated_generation_gwh'],\n",
       "      dtype='object')"
      ]
     },
     "execution_count": 165,
     "metadata": {},
     "output_type": "execute_result"
    }
   ],
   "source": [
    "df.columns"
   ]
  },
  {
   "cell_type": "code",
   "execution_count": 166,
   "id": "ba9c1134",
   "metadata": {},
   "outputs": [
    {
     "data": {
      "text/html": [
       "<div>\n",
       "<style scoped>\n",
       "    .dataframe tbody tr th:only-of-type {\n",
       "        vertical-align: middle;\n",
       "    }\n",
       "\n",
       "    .dataframe tbody tr th {\n",
       "        vertical-align: top;\n",
       "    }\n",
       "\n",
       "    .dataframe thead th {\n",
       "        text-align: right;\n",
       "    }\n",
       "</style>\n",
       "<table border=\"1\" class=\"dataframe\">\n",
       "  <thead>\n",
       "    <tr style=\"text-align: right;\">\n",
       "      <th></th>\n",
       "      <th>capacity_mw</th>\n",
       "      <th>latitude</th>\n",
       "      <th>longitude</th>\n",
       "      <th>other_fuel3</th>\n",
       "      <th>commissioning_year</th>\n",
       "      <th>wepp_id</th>\n",
       "      <th>year_of_capacity_data</th>\n",
       "      <th>generation_gwh_2013</th>\n",
       "      <th>generation_gwh_2014</th>\n",
       "      <th>generation_gwh_2015</th>\n",
       "      <th>generation_gwh_2016</th>\n",
       "      <th>generation_gwh_2017</th>\n",
       "      <th>generation_gwh_2018</th>\n",
       "      <th>generation_gwh_2019</th>\n",
       "      <th>estimated_generation_gwh</th>\n",
       "    </tr>\n",
       "  </thead>\n",
       "  <tbody>\n",
       "    <tr>\n",
       "      <th>count</th>\n",
       "      <td>907.000000</td>\n",
       "      <td>861.000000</td>\n",
       "      <td>861.000000</td>\n",
       "      <td>0.0</td>\n",
       "      <td>527.000000</td>\n",
       "      <td>0.0</td>\n",
       "      <td>519.0</td>\n",
       "      <td>0.0</td>\n",
       "      <td>398.000000</td>\n",
       "      <td>422.000000</td>\n",
       "      <td>434.000000</td>\n",
       "      <td>440.000000</td>\n",
       "      <td>448.000000</td>\n",
       "      <td>0.0</td>\n",
       "      <td>0.0</td>\n",
       "    </tr>\n",
       "    <tr>\n",
       "      <th>mean</th>\n",
       "      <td>326.223755</td>\n",
       "      <td>21.197918</td>\n",
       "      <td>77.464907</td>\n",
       "      <td>NaN</td>\n",
       "      <td>1997.091082</td>\n",
       "      <td>NaN</td>\n",
       "      <td>2019.0</td>\n",
       "      <td>NaN</td>\n",
       "      <td>2431.823590</td>\n",
       "      <td>2428.226946</td>\n",
       "      <td>2467.936859</td>\n",
       "      <td>2547.759305</td>\n",
       "      <td>2600.804099</td>\n",
       "      <td>NaN</td>\n",
       "      <td>NaN</td>\n",
       "    </tr>\n",
       "    <tr>\n",
       "      <th>std</th>\n",
       "      <td>590.085456</td>\n",
       "      <td>6.239612</td>\n",
       "      <td>4.939316</td>\n",
       "      <td>NaN</td>\n",
       "      <td>17.082868</td>\n",
       "      <td>NaN</td>\n",
       "      <td>0.0</td>\n",
       "      <td>NaN</td>\n",
       "      <td>4026.440035</td>\n",
       "      <td>4194.596959</td>\n",
       "      <td>4162.884308</td>\n",
       "      <td>4196.991169</td>\n",
       "      <td>4314.880456</td>\n",
       "      <td>NaN</td>\n",
       "      <td>NaN</td>\n",
       "    </tr>\n",
       "    <tr>\n",
       "      <th>min</th>\n",
       "      <td>0.000000</td>\n",
       "      <td>8.168900</td>\n",
       "      <td>68.644700</td>\n",
       "      <td>NaN</td>\n",
       "      <td>1927.000000</td>\n",
       "      <td>NaN</td>\n",
       "      <td>2019.0</td>\n",
       "      <td>NaN</td>\n",
       "      <td>0.000000</td>\n",
       "      <td>0.000000</td>\n",
       "      <td>0.000000</td>\n",
       "      <td>0.000000</td>\n",
       "      <td>0.000000</td>\n",
       "      <td>NaN</td>\n",
       "      <td>NaN</td>\n",
       "    </tr>\n",
       "    <tr>\n",
       "      <th>25%</th>\n",
       "      <td>16.725000</td>\n",
       "      <td>16.773900</td>\n",
       "      <td>74.256200</td>\n",
       "      <td>NaN</td>\n",
       "      <td>1988.000000</td>\n",
       "      <td>NaN</td>\n",
       "      <td>2019.0</td>\n",
       "      <td>NaN</td>\n",
       "      <td>223.557672</td>\n",
       "      <td>176.381063</td>\n",
       "      <td>188.285252</td>\n",
       "      <td>177.874930</td>\n",
       "      <td>193.378250</td>\n",
       "      <td>NaN</td>\n",
       "      <td>NaN</td>\n",
       "    </tr>\n",
       "    <tr>\n",
       "      <th>50%</th>\n",
       "      <td>59.200000</td>\n",
       "      <td>21.780000</td>\n",
       "      <td>76.719500</td>\n",
       "      <td>NaN</td>\n",
       "      <td>2001.000000</td>\n",
       "      <td>NaN</td>\n",
       "      <td>2019.0</td>\n",
       "      <td>NaN</td>\n",
       "      <td>801.123775</td>\n",
       "      <td>711.181225</td>\n",
       "      <td>737.205450</td>\n",
       "      <td>817.977250</td>\n",
       "      <td>751.644375</td>\n",
       "      <td>NaN</td>\n",
       "      <td>NaN</td>\n",
       "    </tr>\n",
       "    <tr>\n",
       "      <th>75%</th>\n",
       "      <td>385.250000</td>\n",
       "      <td>25.512400</td>\n",
       "      <td>79.440800</td>\n",
       "      <td>NaN</td>\n",
       "      <td>2012.000000</td>\n",
       "      <td>NaN</td>\n",
       "      <td>2019.0</td>\n",
       "      <td>NaN</td>\n",
       "      <td>3035.306250</td>\n",
       "      <td>3084.121250</td>\n",
       "      <td>3282.861313</td>\n",
       "      <td>3275.690475</td>\n",
       "      <td>3143.535900</td>\n",
       "      <td>NaN</td>\n",
       "      <td>NaN</td>\n",
       "    </tr>\n",
       "    <tr>\n",
       "      <th>max</th>\n",
       "      <td>4760.000000</td>\n",
       "      <td>34.649000</td>\n",
       "      <td>95.408000</td>\n",
       "      <td>NaN</td>\n",
       "      <td>2018.000000</td>\n",
       "      <td>NaN</td>\n",
       "      <td>2019.0</td>\n",
       "      <td>NaN</td>\n",
       "      <td>28127.000000</td>\n",
       "      <td>30539.000000</td>\n",
       "      <td>30015.000000</td>\n",
       "      <td>35116.000000</td>\n",
       "      <td>35136.000000</td>\n",
       "      <td>NaN</td>\n",
       "      <td>NaN</td>\n",
       "    </tr>\n",
       "  </tbody>\n",
       "</table>\n",
       "</div>"
      ],
      "text/plain": [
       "       capacity_mw    latitude   longitude  other_fuel3  commissioning_year  \\\n",
       "count   907.000000  861.000000  861.000000          0.0          527.000000   \n",
       "mean    326.223755   21.197918   77.464907          NaN         1997.091082   \n",
       "std     590.085456    6.239612    4.939316          NaN           17.082868   \n",
       "min       0.000000    8.168900   68.644700          NaN         1927.000000   \n",
       "25%      16.725000   16.773900   74.256200          NaN         1988.000000   \n",
       "50%      59.200000   21.780000   76.719500          NaN         2001.000000   \n",
       "75%     385.250000   25.512400   79.440800          NaN         2012.000000   \n",
       "max    4760.000000   34.649000   95.408000          NaN         2018.000000   \n",
       "\n",
       "       wepp_id  year_of_capacity_data  generation_gwh_2013  \\\n",
       "count      0.0                  519.0                  0.0   \n",
       "mean       NaN                 2019.0                  NaN   \n",
       "std        NaN                    0.0                  NaN   \n",
       "min        NaN                 2019.0                  NaN   \n",
       "25%        NaN                 2019.0                  NaN   \n",
       "50%        NaN                 2019.0                  NaN   \n",
       "75%        NaN                 2019.0                  NaN   \n",
       "max        NaN                 2019.0                  NaN   \n",
       "\n",
       "       generation_gwh_2014  generation_gwh_2015  generation_gwh_2016  \\\n",
       "count           398.000000           422.000000           434.000000   \n",
       "mean           2431.823590          2428.226946          2467.936859   \n",
       "std            4026.440035          4194.596959          4162.884308   \n",
       "min               0.000000             0.000000             0.000000   \n",
       "25%             223.557672           176.381063           188.285252   \n",
       "50%             801.123775           711.181225           737.205450   \n",
       "75%            3035.306250          3084.121250          3282.861313   \n",
       "max           28127.000000         30539.000000         30015.000000   \n",
       "\n",
       "       generation_gwh_2017  generation_gwh_2018  generation_gwh_2019  \\\n",
       "count           440.000000           448.000000                  0.0   \n",
       "mean           2547.759305          2600.804099                  NaN   \n",
       "std            4196.991169          4314.880456                  NaN   \n",
       "min               0.000000             0.000000                  NaN   \n",
       "25%             177.874930           193.378250                  NaN   \n",
       "50%             817.977250           751.644375                  NaN   \n",
       "75%            3275.690475          3143.535900                  NaN   \n",
       "max           35116.000000         35136.000000                  NaN   \n",
       "\n",
       "       estimated_generation_gwh  \n",
       "count                       0.0  \n",
       "mean                        NaN  \n",
       "std                         NaN  \n",
       "min                         NaN  \n",
       "25%                         NaN  \n",
       "50%                         NaN  \n",
       "75%                         NaN  \n",
       "max                         NaN  "
      ]
     },
     "execution_count": 166,
     "metadata": {},
     "output_type": "execute_result"
    }
   ],
   "source": [
    "df.describe()"
   ]
  },
  {
   "cell_type": "markdown",
   "id": "9a880f87",
   "metadata": {},
   "source": [
    "Above statistics data shows there are so, many outliers present in the data and also so many null columns are also present"
   ]
  },
  {
   "cell_type": "code",
   "execution_count": 167,
   "id": "3fe00493",
   "metadata": {},
   "outputs": [
    {
     "data": {
      "text/plain": [
       "array([[<AxesSubplot:title={'center':'capacity_mw'}>,\n",
       "        <AxesSubplot:title={'center':'latitude'}>,\n",
       "        <AxesSubplot:title={'center':'longitude'}>,\n",
       "        <AxesSubplot:title={'center':'other_fuel3'}>],\n",
       "       [<AxesSubplot:title={'center':'commissioning_year'}>,\n",
       "        <AxesSubplot:title={'center':'wepp_id'}>,\n",
       "        <AxesSubplot:title={'center':'year_of_capacity_data'}>,\n",
       "        <AxesSubplot:title={'center':'generation_gwh_2013'}>],\n",
       "       [<AxesSubplot:title={'center':'generation_gwh_2014'}>,\n",
       "        <AxesSubplot:title={'center':'generation_gwh_2015'}>,\n",
       "        <AxesSubplot:title={'center':'generation_gwh_2016'}>,\n",
       "        <AxesSubplot:title={'center':'generation_gwh_2017'}>],\n",
       "       [<AxesSubplot:title={'center':'generation_gwh_2018'}>,\n",
       "        <AxesSubplot:title={'center':'generation_gwh_2019'}>,\n",
       "        <AxesSubplot:title={'center':'estimated_generation_gwh'}>,\n",
       "        <AxesSubplot:>]], dtype=object)"
      ]
     },
     "execution_count": 167,
     "metadata": {},
     "output_type": "execute_result"
    },
    {
     "data": {
      "image/png": "[encoded data removed]",
      "text/plain": [
       "<Figure size 1440x1440 with 16 Axes>"
      ]
     },
     "metadata": {},
     "output_type": "display_data"
    }
   ],
   "source": [
    "#plotting histogram for univariate analysis and checking the normal distribution\n",
    "df.hist(figsize=(20,20),grid=True,layout=(4,4),bins=30)"
   ]
  },
  {
   "cell_type": "markdown",
   "id": "291d3253",
   "metadata": {},
   "source": [
    "only longitude and latitude columns are normally distributed.Most of the data is left skewed.commissioning_year is right skewed.Most of the columns are over all null."
   ]
  },
  {
   "cell_type": "code",
   "execution_count": 168,
   "id": "dc365adc",
   "metadata": {},
   "outputs": [
    {
     "data": {
      "text/plain": [
       "capacity_mw                 3.123576\n",
       "latitude                   -0.145866\n",
       "longitude                   1.112646\n",
       "other_fuel3                      NaN\n",
       "commissioning_year         -1.067949\n",
       "wepp_id                          NaN\n",
       "year_of_capacity_data       0.000000\n",
       "generation_gwh_2013              NaN\n",
       "generation_gwh_2014         3.342707\n",
       "generation_gwh_2015         3.665904\n",
       "generation_gwh_2016         3.512370\n",
       "generation_gwh_2017         3.566070\n",
       "generation_gwh_2018         3.476298\n",
       "generation_gwh_2019              NaN\n",
       "estimated_generation_gwh         NaN\n",
       "dtype: float64"
      ]
     },
     "execution_count": 168,
     "metadata": {},
     "output_type": "execute_result"
    }
   ],
   "source": [
    "df.skew()"
   ]
  },
  {
   "cell_type": "code",
   "execution_count": 169,
   "id": "9580839f",
   "metadata": {},
   "outputs": [],
   "source": [
    "#making the skew less then or equal to 0.55 for better prediction and plotting Normal distribution\n",
    "skew=('latitude','longitude','commissioning_year','generation_gwh_2014','generation_gwh_2015','generation_gwh_2016',\n",
    "     'generation_gwh_2017','generation_gwh_2018')\n",
    "for col in skew:\n",
    "    if df.skew().loc[col]>0.55:\n",
    "        df[col]=np.log1p(df[col])"
   ]
  },
  {
   "cell_type": "markdown",
   "id": "19ea0e67",
   "metadata": {},
   "source": [
    "# Label Encoding"
   ]
  },
  {
   "cell_type": "code",
   "execution_count": 170,
   "id": "6dabaeca",
   "metadata": {},
   "outputs": [],
   "source": [
    "#convert object data types into numeric values using label encoder\n",
    "label_country=LabelEncoder()\n",
    "df['country']=label_country.fit_transform(df['country'])\n",
    "label_country_long=LabelEncoder()\n",
    "df['country_long']=label_country_long.fit_transform(df['country_long'])\n",
    "label_name=LabelEncoder()\n",
    "df['name']=label_name.fit_transform(df['name'])\n",
    "label_gppd_idnr=LabelEncoder()\n",
    "df['gppd_idnr']=label_gppd_idnr.fit_transform(df['gppd_idnr'])\n",
    "label_primary_fuel=LabelEncoder()\n",
    "df['primary_fuel']=label_primary_fuel.fit_transform(df['primary_fuel'])\n",
    "label_other_fuel1=LabelEncoder()\n",
    "df['other_fuel1']=label_other_fuel1.fit_transform(df['other_fuel1'])\n",
    "label_other_fuel2=LabelEncoder()\n",
    "df['other_fuel2']=label_other_fuel2.fit_transform(df['other_fuel2'])\n",
    "label_owner=LabelEncoder()\n",
    "df['owner']=label_owner.fit_transform(df['owner'])\n",
    "label_source=LabelEncoder()\n",
    "df['source']=label_source.fit_transform(df['source'])\n",
    "label_url=LabelEncoder()\n",
    "df['url']=label_url.fit_transform(df['url'])\n",
    "label_geolocation_source=LabelEncoder()\n",
    "df['geolocation_source']=label_geolocation_source.fit_transform(df['geolocation_source'])\n",
    "label_generation_data_source=LabelEncoder()\n",
    "df['generation_data_source']=label_generation_data_source.fit_transform(df['generation_data_source'])"
   ]
  },
  {
   "cell_type": "code",
   "execution_count": 171,
   "id": "8af38aab",
   "metadata": {},
   "outputs": [
    {
     "data": {
      "text/plain": [
       "(907, 27)"
      ]
     },
     "execution_count": 171,
     "metadata": {},
     "output_type": "execute_result"
    }
   ],
   "source": [
    "df.shape"
   ]
  },
  {
   "cell_type": "code",
   "execution_count": 172,
   "id": "c05f8850",
   "metadata": {},
   "outputs": [],
   "source": [
    "from sklearn.impute import KNNImputer\n",
    "knnimp=KNNImputer(n_neighbors=2)\n",
    "knn_imp=pd.DataFrame(knnimp.fit_transform(df[['latitude','longitude','other_fuel1','other_fuel2','commissioning_year',\n",
    "                                             'owner','geolocation_source','year_of_capacity_data','generation_gwh_2014',\n",
    "                                             'generation_gwh_2015','generation_gwh_2016','generation_gwh_2017',\n",
    "                                             'generation_gwh_2018','generation_data_source']]))"
   ]
  },
  {
   "cell_type": "code",
   "execution_count": 173,
   "id": "31f9f81e",
   "metadata": {},
   "outputs": [
    {
     "data": {
      "text/html": [
       "<div>\n",
       "<style scoped>\n",
       "    .dataframe tbody tr th:only-of-type {\n",
       "        vertical-align: middle;\n",
       "    }\n",
       "\n",
       "    .dataframe tbody tr th {\n",
       "        vertical-align: top;\n",
       "    }\n",
       "\n",
       "    .dataframe thead th {\n",
       "        text-align: right;\n",
       "    }\n",
       "</style>\n",
       "<table border=\"1\" class=\"dataframe\">\n",
       "  <thead>\n",
       "    <tr style=\"text-align: right;\">\n",
       "      <th></th>\n",
       "      <th>country</th>\n",
       "      <th>country_long</th>\n",
       "      <th>name</th>\n",
       "      <th>gppd_idnr</th>\n",
       "      <th>capacity_mw</th>\n",
       "      <th>latitude</th>\n",
       "      <th>longitude</th>\n",
       "      <th>primary_fuel</th>\n",
       "      <th>other_fuel1</th>\n",
       "      <th>other_fuel2</th>\n",
       "      <th>...</th>\n",
       "      <th>year_of_capacity_data</th>\n",
       "      <th>generation_gwh_2013</th>\n",
       "      <th>generation_gwh_2014</th>\n",
       "      <th>generation_gwh_2015</th>\n",
       "      <th>generation_gwh_2016</th>\n",
       "      <th>generation_gwh_2017</th>\n",
       "      <th>generation_gwh_2018</th>\n",
       "      <th>generation_gwh_2019</th>\n",
       "      <th>generation_data_source</th>\n",
       "      <th>estimated_generation_gwh</th>\n",
       "    </tr>\n",
       "  </thead>\n",
       "  <tbody>\n",
       "    <tr>\n",
       "      <th>0</th>\n",
       "      <td>0</td>\n",
       "      <td>0</td>\n",
       "      <td>0</td>\n",
       "      <td>657</td>\n",
       "      <td>2.5</td>\n",
       "      <td>28.1839</td>\n",
       "      <td>4.307313</td>\n",
       "      <td>6</td>\n",
       "      <td>3</td>\n",
       "      <td>1</td>\n",
       "      <td>...</td>\n",
       "      <td>NaN</td>\n",
       "      <td>NaN</td>\n",
       "      <td>NaN</td>\n",
       "      <td>NaN</td>\n",
       "      <td>NaN</td>\n",
       "      <td>NaN</td>\n",
       "      <td>NaN</td>\n",
       "      <td>NaN</td>\n",
       "      <td>1</td>\n",
       "      <td>NaN</td>\n",
       "    </tr>\n",
       "    <tr>\n",
       "      <th>1</th>\n",
       "      <td>0</td>\n",
       "      <td>0</td>\n",
       "      <td>1</td>\n",
       "      <td>519</td>\n",
       "      <td>98.0</td>\n",
       "      <td>24.7663</td>\n",
       "      <td>4.325575</td>\n",
       "      <td>1</td>\n",
       "      <td>3</td>\n",
       "      <td>1</td>\n",
       "      <td>...</td>\n",
       "      <td>NaN</td>\n",
       "      <td>NaN</td>\n",
       "      <td>NaN</td>\n",
       "      <td>NaN</td>\n",
       "      <td>NaN</td>\n",
       "      <td>NaN</td>\n",
       "      <td>NaN</td>\n",
       "      <td>NaN</td>\n",
       "      <td>1</td>\n",
       "      <td>NaN</td>\n",
       "    </tr>\n",
       "    <tr>\n",
       "      <th>2</th>\n",
       "      <td>0</td>\n",
       "      <td>0</td>\n",
       "      <td>2</td>\n",
       "      <td>853</td>\n",
       "      <td>39.2</td>\n",
       "      <td>21.9038</td>\n",
       "      <td>4.253813</td>\n",
       "      <td>7</td>\n",
       "      <td>3</td>\n",
       "      <td>1</td>\n",
       "      <td>...</td>\n",
       "      <td>NaN</td>\n",
       "      <td>NaN</td>\n",
       "      <td>NaN</td>\n",
       "      <td>NaN</td>\n",
       "      <td>NaN</td>\n",
       "      <td>NaN</td>\n",
       "      <td>NaN</td>\n",
       "      <td>NaN</td>\n",
       "      <td>1</td>\n",
       "      <td>NaN</td>\n",
       "    </tr>\n",
       "    <tr>\n",
       "      <th>3</th>\n",
       "      <td>0</td>\n",
       "      <td>0</td>\n",
       "      <td>3</td>\n",
       "      <td>0</td>\n",
       "      <td>135.0</td>\n",
       "      <td>23.8712</td>\n",
       "      <td>4.525696</td>\n",
       "      <td>2</td>\n",
       "      <td>3</td>\n",
       "      <td>1</td>\n",
       "      <td>...</td>\n",
       "      <td>2019.0</td>\n",
       "      <td>NaN</td>\n",
       "      <td>6.427765</td>\n",
       "      <td>6.739037</td>\n",
       "      <td>6.787850</td>\n",
       "      <td>6.499448</td>\n",
       "      <td>6.441328</td>\n",
       "      <td>NaN</td>\n",
       "      <td>0</td>\n",
       "      <td>NaN</td>\n",
       "    </tr>\n",
       "    <tr>\n",
       "      <th>4</th>\n",
       "      <td>0</td>\n",
       "      <td>0</td>\n",
       "      <td>4</td>\n",
       "      <td>1</td>\n",
       "      <td>1800.0</td>\n",
       "      <td>21.9603</td>\n",
       "      <td>4.423757</td>\n",
       "      <td>1</td>\n",
       "      <td>2</td>\n",
       "      <td>1</td>\n",
       "      <td>...</td>\n",
       "      <td>2019.0</td>\n",
       "      <td>NaN</td>\n",
       "      <td>8.018477</td>\n",
       "      <td>8.685647</td>\n",
       "      <td>8.739376</td>\n",
       "      <td>8.591666</td>\n",
       "      <td>8.892886</td>\n",
       "      <td>NaN</td>\n",
       "      <td>0</td>\n",
       "      <td>NaN</td>\n",
       "    </tr>\n",
       "  </tbody>\n",
       "</table>\n",
       "<p>5 rows × 27 columns</p>\n",
       "</div>"
      ],
      "text/plain": [
       "   country  country_long  name  gppd_idnr  capacity_mw  latitude  longitude  \\\n",
       "0        0             0     0        657          2.5   28.1839   4.307313   \n",
       "1        0             0     1        519         98.0   24.7663   4.325575   \n",
       "2        0             0     2        853         39.2   21.9038   4.253813   \n",
       "3        0             0     3          0        135.0   23.8712   4.525696   \n",
       "4        0             0     4          1       1800.0   21.9603   4.423757   \n",
       "\n",
       "   primary_fuel  other_fuel1  other_fuel2  ...  year_of_capacity_data  \\\n",
       "0             6            3            1  ...                    NaN   \n",
       "1             1            3            1  ...                    NaN   \n",
       "2             7            3            1  ...                    NaN   \n",
       "3             2            3            1  ...                 2019.0   \n",
       "4             1            2            1  ...                 2019.0   \n",
       "\n",
       "   generation_gwh_2013  generation_gwh_2014  generation_gwh_2015  \\\n",
       "0                  NaN                  NaN                  NaN   \n",
       "1                  NaN                  NaN                  NaN   \n",
       "2                  NaN                  NaN                  NaN   \n",
       "3                  NaN             6.427765             6.739037   \n",
       "4                  NaN             8.018477             8.685647   \n",
       "\n",
       "   generation_gwh_2016  generation_gwh_2017  generation_gwh_2018  \\\n",
       "0                  NaN                  NaN                  NaN   \n",
       "1                  NaN                  NaN                  NaN   \n",
       "2                  NaN                  NaN                  NaN   \n",
       "3             6.787850             6.499448             6.441328   \n",
       "4             8.739376             8.591666             8.892886   \n",
       "\n",
       "   generation_gwh_2019  generation_data_source  estimated_generation_gwh  \n",
       "0                  NaN                       1                       NaN  \n",
       "1                  NaN                       1                       NaN  \n",
       "2                  NaN                       1                       NaN  \n",
       "3                  NaN                       0                       NaN  \n",
       "4                  NaN                       0                       NaN  \n",
       "\n",
       "[5 rows x 27 columns]"
      ]
     },
     "execution_count": 173,
     "metadata": {},
     "output_type": "execute_result"
    }
   ],
   "source": [
    "df.head()"
   ]
  },
  {
   "cell_type": "code",
   "execution_count": 174,
   "id": "2ff2b1b8",
   "metadata": {},
   "outputs": [],
   "source": [
    "df=df.drop(['other_fuel3','wepp_id','generation_gwh_2013','generation_gwh_2019','estimated_generation_gwh'],axis=1)"
   ]
  },
  {
   "cell_type": "code",
   "execution_count": 175,
   "id": "4defbf8c",
   "metadata": {},
   "outputs": [
    {
     "data": {
      "text/html": [
       "<div>\n",
       "<style scoped>\n",
       "    .dataframe tbody tr th:only-of-type {\n",
       "        vertical-align: middle;\n",
       "    }\n",
       "\n",
       "    .dataframe tbody tr th {\n",
       "        vertical-align: top;\n",
       "    }\n",
       "\n",
       "    .dataframe thead th {\n",
       "        text-align: right;\n",
       "    }\n",
       "</style>\n",
       "<table border=\"1\" class=\"dataframe\">\n",
       "  <thead>\n",
       "    <tr style=\"text-align: right;\">\n",
       "      <th></th>\n",
       "      <th>country</th>\n",
       "      <th>country_long</th>\n",
       "      <th>name</th>\n",
       "      <th>gppd_idnr</th>\n",
       "      <th>capacity_mw</th>\n",
       "      <th>latitude</th>\n",
       "      <th>longitude</th>\n",
       "      <th>primary_fuel</th>\n",
       "      <th>other_fuel1</th>\n",
       "      <th>other_fuel2</th>\n",
       "      <th>...</th>\n",
       "      <th>source</th>\n",
       "      <th>url</th>\n",
       "      <th>geolocation_source</th>\n",
       "      <th>year_of_capacity_data</th>\n",
       "      <th>generation_gwh_2014</th>\n",
       "      <th>generation_gwh_2015</th>\n",
       "      <th>generation_gwh_2016</th>\n",
       "      <th>generation_gwh_2017</th>\n",
       "      <th>generation_gwh_2018</th>\n",
       "      <th>generation_data_source</th>\n",
       "    </tr>\n",
       "  </thead>\n",
       "  <tbody>\n",
       "    <tr>\n",
       "      <th>3</th>\n",
       "      <td>0</td>\n",
       "      <td>0</td>\n",
       "      <td>3</td>\n",
       "      <td>0</td>\n",
       "      <td>135.0</td>\n",
       "      <td>23.8712</td>\n",
       "      <td>4.525696</td>\n",
       "      <td>2</td>\n",
       "      <td>3</td>\n",
       "      <td>1</td>\n",
       "      <td>...</td>\n",
       "      <td>22</td>\n",
       "      <td>58</td>\n",
       "      <td>2</td>\n",
       "      <td>2019.0</td>\n",
       "      <td>6.427765</td>\n",
       "      <td>6.739037</td>\n",
       "      <td>6.787850</td>\n",
       "      <td>6.499448</td>\n",
       "      <td>6.441328</td>\n",
       "      <td>0</td>\n",
       "    </tr>\n",
       "    <tr>\n",
       "      <th>4</th>\n",
       "      <td>0</td>\n",
       "      <td>0</td>\n",
       "      <td>4</td>\n",
       "      <td>1</td>\n",
       "      <td>1800.0</td>\n",
       "      <td>21.9603</td>\n",
       "      <td>4.423757</td>\n",
       "      <td>1</td>\n",
       "      <td>2</td>\n",
       "      <td>1</td>\n",
       "      <td>...</td>\n",
       "      <td>22</td>\n",
       "      <td>58</td>\n",
       "      <td>2</td>\n",
       "      <td>2019.0</td>\n",
       "      <td>8.018477</td>\n",
       "      <td>8.685647</td>\n",
       "      <td>8.739376</td>\n",
       "      <td>8.591666</td>\n",
       "      <td>8.892886</td>\n",
       "      <td>0</td>\n",
       "    </tr>\n",
       "    <tr>\n",
       "      <th>5</th>\n",
       "      <td>0</td>\n",
       "      <td>0</td>\n",
       "      <td>5</td>\n",
       "      <td>2</td>\n",
       "      <td>250.0</td>\n",
       "      <td>23.7689</td>\n",
       "      <td>4.243407</td>\n",
       "      <td>1</td>\n",
       "      <td>2</td>\n",
       "      <td>1</td>\n",
       "      <td>...</td>\n",
       "      <td>22</td>\n",
       "      <td>58</td>\n",
       "      <td>2</td>\n",
       "      <td>2019.0</td>\n",
       "      <td>7.051354</td>\n",
       "      <td>7.098253</td>\n",
       "      <td>7.070524</td>\n",
       "      <td>7.046572</td>\n",
       "      <td>6.885157</td>\n",
       "      <td>0</td>\n",
       "    </tr>\n",
       "    <tr>\n",
       "      <th>6</th>\n",
       "      <td>0</td>\n",
       "      <td>0</td>\n",
       "      <td>6</td>\n",
       "      <td>3</td>\n",
       "      <td>60.0</td>\n",
       "      <td>10.4547</td>\n",
       "      <td>4.356809</td>\n",
       "      <td>3</td>\n",
       "      <td>3</td>\n",
       "      <td>1</td>\n",
       "      <td>...</td>\n",
       "      <td>22</td>\n",
       "      <td>58</td>\n",
       "      <td>2</td>\n",
       "      <td>2019.0</td>\n",
       "      <td>5.066122</td>\n",
       "      <td>5.031713</td>\n",
       "      <td>4.133907</td>\n",
       "      <td>4.506781</td>\n",
       "      <td>3.898475</td>\n",
       "      <td>0</td>\n",
       "    </tr>\n",
       "    <tr>\n",
       "      <th>7</th>\n",
       "      <td>0</td>\n",
       "      <td>0</td>\n",
       "      <td>7</td>\n",
       "      <td>4</td>\n",
       "      <td>192.0</td>\n",
       "      <td>32.2258</td>\n",
       "      <td>4.359359</td>\n",
       "      <td>3</td>\n",
       "      <td>3</td>\n",
       "      <td>1</td>\n",
       "      <td>...</td>\n",
       "      <td>22</td>\n",
       "      <td>58</td>\n",
       "      <td>2</td>\n",
       "      <td>2019.0</td>\n",
       "      <td>6.515292</td>\n",
       "      <td>6.582489</td>\n",
       "      <td>6.517264</td>\n",
       "      <td>6.522967</td>\n",
       "      <td>6.363578</td>\n",
       "      <td>0</td>\n",
       "    </tr>\n",
       "    <tr>\n",
       "      <th>...</th>\n",
       "      <td>...</td>\n",
       "      <td>...</td>\n",
       "      <td>...</td>\n",
       "      <td>...</td>\n",
       "      <td>...</td>\n",
       "      <td>...</td>\n",
       "      <td>...</td>\n",
       "      <td>...</td>\n",
       "      <td>...</td>\n",
       "      <td>...</td>\n",
       "      <td>...</td>\n",
       "      <td>...</td>\n",
       "      <td>...</td>\n",
       "      <td>...</td>\n",
       "      <td>...</td>\n",
       "      <td>...</td>\n",
       "      <td>...</td>\n",
       "      <td>...</td>\n",
       "      <td>...</td>\n",
       "      <td>...</td>\n",
       "      <td>...</td>\n",
       "    </tr>\n",
       "    <tr>\n",
       "      <th>882</th>\n",
       "      <td>0</td>\n",
       "      <td>0</td>\n",
       "      <td>882</td>\n",
       "      <td>483</td>\n",
       "      <td>400.0</td>\n",
       "      <td>30.5669</td>\n",
       "      <td>4.388838</td>\n",
       "      <td>3</td>\n",
       "      <td>3</td>\n",
       "      <td>1</td>\n",
       "      <td>...</td>\n",
       "      <td>22</td>\n",
       "      <td>58</td>\n",
       "      <td>2</td>\n",
       "      <td>2019.0</td>\n",
       "      <td>7.499899</td>\n",
       "      <td>7.094730</td>\n",
       "      <td>7.617189</td>\n",
       "      <td>7.673733</td>\n",
       "      <td>7.561829</td>\n",
       "      <td>0</td>\n",
       "    </tr>\n",
       "    <tr>\n",
       "      <th>889</th>\n",
       "      <td>0</td>\n",
       "      <td>0</td>\n",
       "      <td>889</td>\n",
       "      <td>485</td>\n",
       "      <td>1470.0</td>\n",
       "      <td>22.8725</td>\n",
       "      <td>4.308902</td>\n",
       "      <td>1</td>\n",
       "      <td>2</td>\n",
       "      <td>1</td>\n",
       "      <td>...</td>\n",
       "      <td>22</td>\n",
       "      <td>58</td>\n",
       "      <td>2</td>\n",
       "      <td>2019.0</td>\n",
       "      <td>8.818019</td>\n",
       "      <td>8.549184</td>\n",
       "      <td>8.172060</td>\n",
       "      <td>8.856407</td>\n",
       "      <td>8.933704</td>\n",
       "      <td>0</td>\n",
       "    </tr>\n",
       "    <tr>\n",
       "      <th>890</th>\n",
       "      <td>0</td>\n",
       "      <td>0</td>\n",
       "      <td>890</td>\n",
       "      <td>486</td>\n",
       "      <td>540.0</td>\n",
       "      <td>20.2727</td>\n",
       "      <td>4.381767</td>\n",
       "      <td>1</td>\n",
       "      <td>2</td>\n",
       "      <td>1</td>\n",
       "      <td>...</td>\n",
       "      <td>22</td>\n",
       "      <td>58</td>\n",
       "      <td>2</td>\n",
       "      <td>2019.0</td>\n",
       "      <td>6.953512</td>\n",
       "      <td>7.409838</td>\n",
       "      <td>7.115160</td>\n",
       "      <td>6.907925</td>\n",
       "      <td>6.847358</td>\n",
       "      <td>0</td>\n",
       "    </tr>\n",
       "    <tr>\n",
       "      <th>893</th>\n",
       "      <td>0</td>\n",
       "      <td>0</td>\n",
       "      <td>893</td>\n",
       "      <td>488</td>\n",
       "      <td>62.4</td>\n",
       "      <td>30.3033</td>\n",
       "      <td>4.363970</td>\n",
       "      <td>3</td>\n",
       "      <td>3</td>\n",
       "      <td>1</td>\n",
       "      <td>...</td>\n",
       "      <td>22</td>\n",
       "      <td>58</td>\n",
       "      <td>2</td>\n",
       "      <td>2019.0</td>\n",
       "      <td>5.222802</td>\n",
       "      <td>5.214936</td>\n",
       "      <td>5.324246</td>\n",
       "      <td>5.175394</td>\n",
       "      <td>5.470132</td>\n",
       "      <td>0</td>\n",
       "    </tr>\n",
       "    <tr>\n",
       "      <th>899</th>\n",
       "      <td>0</td>\n",
       "      <td>0</td>\n",
       "      <td>899</td>\n",
       "      <td>489</td>\n",
       "      <td>600.0</td>\n",
       "      <td>30.1081</td>\n",
       "      <td>4.360876</td>\n",
       "      <td>1</td>\n",
       "      <td>2</td>\n",
       "      <td>1</td>\n",
       "      <td>...</td>\n",
       "      <td>22</td>\n",
       "      <td>58</td>\n",
       "      <td>2</td>\n",
       "      <td>2019.0</td>\n",
       "      <td>8.069455</td>\n",
       "      <td>8.218936</td>\n",
       "      <td>8.047053</td>\n",
       "      <td>8.057394</td>\n",
       "      <td>8.019830</td>\n",
       "      <td>0</td>\n",
       "    </tr>\n",
       "  </tbody>\n",
       "</table>\n",
       "<p>385 rows × 22 columns</p>\n",
       "</div>"
      ],
      "text/plain": [
       "     country  country_long  name  gppd_idnr  capacity_mw  latitude  longitude  \\\n",
       "3          0             0     3          0        135.0   23.8712   4.525696   \n",
       "4          0             0     4          1       1800.0   21.9603   4.423757   \n",
       "5          0             0     5          2        250.0   23.7689   4.243407   \n",
       "6          0             0     6          3         60.0   10.4547   4.356809   \n",
       "7          0             0     7          4        192.0   32.2258   4.359359   \n",
       "..       ...           ...   ...        ...          ...       ...        ...   \n",
       "882        0             0   882        483        400.0   30.5669   4.388838   \n",
       "889        0             0   889        485       1470.0   22.8725   4.308902   \n",
       "890        0             0   890        486        540.0   20.2727   4.381767   \n",
       "893        0             0   893        488         62.4   30.3033   4.363970   \n",
       "899        0             0   899        489        600.0   30.1081   4.360876   \n",
       "\n",
       "     primary_fuel  other_fuel1  other_fuel2  ...  source  url  \\\n",
       "3               2            3            1  ...      22   58   \n",
       "4               1            2            1  ...      22   58   \n",
       "5               1            2            1  ...      22   58   \n",
       "6               3            3            1  ...      22   58   \n",
       "7               3            3            1  ...      22   58   \n",
       "..            ...          ...          ...  ...     ...  ...   \n",
       "882             3            3            1  ...      22   58   \n",
       "889             1            2            1  ...      22   58   \n",
       "890             1            2            1  ...      22   58   \n",
       "893             3            3            1  ...      22   58   \n",
       "899             1            2            1  ...      22   58   \n",
       "\n",
       "     geolocation_source  year_of_capacity_data  generation_gwh_2014  \\\n",
       "3                     2                 2019.0             6.427765   \n",
       "4                     2                 2019.0             8.018477   \n",
       "5                     2                 2019.0             7.051354   \n",
       "6                     2                 2019.0             5.066122   \n",
       "7                     2                 2019.0             6.515292   \n",
       "..                  ...                    ...                  ...   \n",
       "882                   2                 2019.0             7.499899   \n",
       "889                   2                 2019.0             8.818019   \n",
       "890                   2                 2019.0             6.953512   \n",
       "893                   2                 2019.0             5.222802   \n",
       "899                   2                 2019.0             8.069455   \n",
       "\n",
       "     generation_gwh_2015  generation_gwh_2016  generation_gwh_2017  \\\n",
       "3               6.739037             6.787850             6.499448   \n",
       "4               8.685647             8.739376             8.591666   \n",
       "5               7.098253             7.070524             7.046572   \n",
       "6               5.031713             4.133907             4.506781   \n",
       "7               6.582489             6.517264             6.522967   \n",
       "..                   ...                  ...                  ...   \n",
       "882             7.094730             7.617189             7.673733   \n",
       "889             8.549184             8.172060             8.856407   \n",
       "890             7.409838             7.115160             6.907925   \n",
       "893             5.214936             5.324246             5.175394   \n",
       "899             8.218936             8.047053             8.057394   \n",
       "\n",
       "     generation_gwh_2018  generation_data_source  \n",
       "3               6.441328                       0  \n",
       "4               8.892886                       0  \n",
       "5               6.885157                       0  \n",
       "6               3.898475                       0  \n",
       "7               6.363578                       0  \n",
       "..                   ...                     ...  \n",
       "882             7.561829                       0  \n",
       "889             8.933704                       0  \n",
       "890             6.847358                       0  \n",
       "893             5.470132                       0  \n",
       "899             8.019830                       0  \n",
       "\n",
       "[385 rows x 22 columns]"
      ]
     },
     "execution_count": 175,
     "metadata": {},
     "output_type": "execute_result"
    }
   ],
   "source": [
    "df.dropna()"
   ]
  },
  {
   "cell_type": "markdown",
   "id": "aa7de119",
   "metadata": {},
   "source": [
    "# Outliers:"
   ]
  },
  {
   "cell_type": "code",
   "execution_count": 145,
   "id": "a6401088",
   "metadata": {},
   "outputs": [
    {
     "data": {
      "text/plain": [
       "country                      AxesSubplot(0.125,0.749828;0.133621x0.130172)\n",
       "country_long              AxesSubplot(0.285345,0.749828;0.133621x0.130172)\n",
       "name                       AxesSubplot(0.44569,0.749828;0.133621x0.130172)\n",
       "gppd_idnr                 AxesSubplot(0.606034,0.749828;0.133621x0.130172)\n",
       "capacity_mw               AxesSubplot(0.766379,0.749828;0.133621x0.130172)\n",
       "latitude                     AxesSubplot(0.125,0.593621;0.133621x0.130172)\n",
       "longitude                 AxesSubplot(0.285345,0.593621;0.133621x0.130172)\n",
       "primary_fuel               AxesSubplot(0.44569,0.593621;0.133621x0.130172)\n",
       "other_fuel1               AxesSubplot(0.606034,0.593621;0.133621x0.130172)\n",
       "other_fuel2               AxesSubplot(0.766379,0.593621;0.133621x0.130172)\n",
       "commissioning_year           AxesSubplot(0.125,0.437414;0.133621x0.130172)\n",
       "owner                     AxesSubplot(0.285345,0.437414;0.133621x0.130172)\n",
       "source                     AxesSubplot(0.44569,0.437414;0.133621x0.130172)\n",
       "url                       AxesSubplot(0.606034,0.437414;0.133621x0.130172)\n",
       "geolocation_source        AxesSubplot(0.766379,0.437414;0.133621x0.130172)\n",
       "year_of_capacity_data        AxesSubplot(0.125,0.281207;0.133621x0.130172)\n",
       "generation_gwh_2014       AxesSubplot(0.285345,0.281207;0.133621x0.130172)\n",
       "generation_gwh_2015        AxesSubplot(0.44569,0.281207;0.133621x0.130172)\n",
       "generation_gwh_2016       AxesSubplot(0.606034,0.281207;0.133621x0.130172)\n",
       "generation_gwh_2017       AxesSubplot(0.766379,0.281207;0.133621x0.130172)\n",
       "generation_gwh_2018             AxesSubplot(0.125,0.125;0.133621x0.130172)\n",
       "generation_data_source       AxesSubplot(0.285345,0.125;0.133621x0.130172)\n",
       "dtype: object"
      ]
     },
     "execution_count": 145,
     "metadata": {},
     "output_type": "execute_result"
    },
    {
     "data": {
      "image/png": "[encoded data removed]",
      "text/plain": [
       "<Figure size 1080x720 with 25 Axes>"
      ]
     },
     "metadata": {},
     "output_type": "display_data"
    }
   ],
   "source": [
    "#plotting the box plot of each column to check the outlier\n",
    "df.plot(kind='box', subplots=True, layout=(5,5), figsize=(15,10))"
   ]
  },
  {
   "cell_type": "code",
   "execution_count": 176,
   "id": "ffdfb97d",
   "metadata": {},
   "outputs": [
    {
     "name": "stdout",
     "output_type": "stream",
     "text": [
      "Old Shape: (907, 22)\n",
      "New Shape: (907, 22)\n"
     ]
    }
   ],
   "source": [
    "#IQR\n",
    "Q1=np.percentile(df[['longitude','commissioning_year','owner','source','url','generation_gwh_2014','generation_gwh_2015',\n",
    "                        'generation_gwh_2016','generation_gwh_2017','generation_gwh_2018']],25,interpolation='midpoint')\n",
    "Q3=np.percentile(df[['longitude','commissioning_year','owner','source','url','generation_gwh_2014','generation_gwh_2015',\n",
    "                        'generation_gwh_2016','generation_gwh_2017','generation_gwh_2018']],75,interpolation='midpoint')\n",
    "IQR=Q3-Q1\n",
    "print(\"Old Shape:\",df.shape)\n",
    "upper=np.where(df[['longitude','commissioning_year','owner','source','url','generation_gwh_2014','generation_gwh_2015',\n",
    "                        'generation_gwh_2016','generation_gwh_2017','generation_gwh_2018']]>=(Q3+1.5*IQR))\n",
    "lower=np.where(df[['longitude','commissioning_year','owner','source','url','generation_gwh_2014','generation_gwh_2015',\n",
    "                        'generation_gwh_2016','generation_gwh_2017','generation_gwh_2018']]<=(Q1-1.5*IQR))\n",
    "df.drop(upper[0], inplace=True)\n",
    "df.drop(lower[0], inplace=True)\n",
    "print(\"New Shape:\",df.shape)"
   ]
  },
  {
   "cell_type": "code",
   "execution_count": 177,
   "id": "da1a38ca",
   "metadata": {},
   "outputs": [
    {
     "name": "stdout",
     "output_type": "stream",
     "text": [
      "Old Shape: (907, 22)\n",
      "New Shape: (907, 22)\n"
     ]
    }
   ],
   "source": [
    "Q1=np.percentile(df['longitude'],25,interpolation='midpoint')\n",
    "Q3=np.percentile(df['longitude'],75,interpolation='midpoint')\n",
    "IQR=Q3-Q1\n",
    "print(\"Old Shape:\",df.shape)\n",
    "upper=np.where(df['longitude']>=(Q3+1.5*IQR))\n",
    "lower=np.where(df['longitude']<=(Q1-1.5*IQR))\n",
    "df.drop(upper[0], inplace=True)\n",
    "df.drop(lower[0], inplace=True)\n",
    "print(\"New Shape:\",df.shape)"
   ]
  },
  {
   "cell_type": "code",
   "execution_count": null,
   "id": "e64731c2",
   "metadata": {},
   "outputs": [],
   "source": []
  },
  {
   "cell_type": "markdown",
   "id": "27eab7b3",
   "metadata": {},
   "source": [
    "# Prediction with capacity_mw"
   ]
  },
  {
   "cell_type": "code",
   "execution_count": 178,
   "id": "c2a1b081",
   "metadata": {},
   "outputs": [],
   "source": [
    "x=df.drop(['capacity_mw'],axis=1)\n",
    "y=df['capacity_mw']"
   ]
  },
  {
   "cell_type": "code",
   "execution_count": 179,
   "id": "db98230f",
   "metadata": {},
   "outputs": [],
   "source": [
    "#Train/test split\n",
    "x_train,x_test,y_train,y_test=train_test_split(x,y,test_size=0.25,random_state=42)"
   ]
  },
  {
   "cell_type": "code",
   "execution_count": 180,
   "id": "1871a5a6",
   "metadata": {},
   "outputs": [],
   "source": [
    "knn=KNNImputer()\n",
    "x_train=knn.fit_transform(x_train)\n",
    "x_test=knn.transform(x_test)"
   ]
  },
  {
   "cell_type": "code",
   "execution_count": 181,
   "id": "420aca6b",
   "metadata": {},
   "outputs": [],
   "source": [
    "#Import the models\n",
    "from sklearn.linear_model import LinearRegression\n",
    "from sklearn.svm import SVR\n",
    "from sklearn.ensemble import RandomForestRegressor\n",
    "from sklearn.ensemble import GradientBoostingRegressor"
   ]
  },
  {
   "cell_type": "code",
   "execution_count": 182,
   "id": "c8dba692",
   "metadata": {},
   "outputs": [
    {
     "data": {
      "text/html": [
       "<style>#sk-container-id-3 {color: black;background-color: white;}#sk-container-id-3 pre{padding: 0;}#sk-container-id-3 div.sk-toggleable {background-color: white;}#sk-container-id-3 label.sk-toggleable__label {cursor: pointer;display: block;width: 100%;margin-bottom: 0;padding: 0.3em;box-sizing: border-box;text-align: center;}#sk-container-id-3 label.sk-toggleable__label-arrow:before {content: \"▸\";float: left;margin-right: 0.25em;color: #696969;}#sk-container-id-3 label.sk-toggleable__label-arrow:hover:before {color: black;}#sk-container-id-3 div.sk-estimator:hover label.sk-toggleable__label-arrow:before {color: black;}#sk-container-id-3 div.sk-toggleable__content {max-height: 0;max-width: 0;overflow: hidden;text-align: left;background-color: #f0f8ff;}#sk-container-id-3 div.sk-toggleable__content pre {margin: 0.2em;color: black;border-radius: 0.25em;background-color: #f0f8ff;}#sk-container-id-3 input.sk-toggleable__control:checked~div.sk-toggleable__content {max-height: 200px;max-width: 100%;overflow: auto;}#sk-container-id-3 input.sk-toggleable__control:checked~label.sk-toggleable__label-arrow:before {content: \"▾\";}#sk-container-id-3 div.sk-estimator input.sk-toggleable__control:checked~label.sk-toggleable__label {background-color: #d4ebff;}#sk-container-id-3 div.sk-label input.sk-toggleable__control:checked~label.sk-toggleable__label {background-color: #d4ebff;}#sk-container-id-3 input.sk-hidden--visually {border: 0;clip: rect(1px 1px 1px 1px);clip: rect(1px, 1px, 1px, 1px);height: 1px;margin: -1px;overflow: hidden;padding: 0;position: absolute;width: 1px;}#sk-container-id-3 div.sk-estimator {font-family: monospace;background-color: #f0f8ff;border: 1px dotted black;border-radius: 0.25em;box-sizing: border-box;margin-bottom: 0.5em;}#sk-container-id-3 div.sk-estimator:hover {background-color: #d4ebff;}#sk-container-id-3 div.sk-parallel-item::after {content: \"\";width: 100%;border-bottom: 1px solid gray;flex-grow: 1;}#sk-container-id-3 div.sk-label:hover label.sk-toggleable__label {background-color: #d4ebff;}#sk-container-id-3 div.sk-serial::before {content: \"\";position: absolute;border-left: 1px solid gray;box-sizing: border-box;top: 0;bottom: 0;left: 50%;z-index: 0;}#sk-container-id-3 div.sk-serial {display: flex;flex-direction: column;align-items: center;background-color: white;padding-right: 0.2em;padding-left: 0.2em;position: relative;}#sk-container-id-3 div.sk-item {position: relative;z-index: 1;}#sk-container-id-3 div.sk-parallel {display: flex;align-items: stretch;justify-content: center;background-color: white;position: relative;}#sk-container-id-3 div.sk-item::before, #sk-container-id-3 div.sk-parallel-item::before {content: \"\";position: absolute;border-left: 1px solid gray;box-sizing: border-box;top: 0;bottom: 0;left: 50%;z-index: -1;}#sk-container-id-3 div.sk-parallel-item {display: flex;flex-direction: column;z-index: 1;position: relative;background-color: white;}#sk-container-id-3 div.sk-parallel-item:first-child::after {align-self: flex-end;width: 50%;}#sk-container-id-3 div.sk-parallel-item:last-child::after {align-self: flex-start;width: 50%;}#sk-container-id-3 div.sk-parallel-item:only-child::after {width: 0;}#sk-container-id-3 div.sk-dashed-wrapped {border: 1px dashed gray;margin: 0 0.4em 0.5em 0.4em;box-sizing: border-box;padding-bottom: 0.4em;background-color: white;}#sk-container-id-3 div.sk-label label {font-family: monospace;font-weight: bold;display: inline-block;line-height: 1.2em;}#sk-container-id-3 div.sk-label-container {text-align: center;}#sk-container-id-3 div.sk-container {/* jupyter's `normalize.less` sets `[hidden] { display: none; }` but bootstrap.min.css set `[hidden] { display: none !important; }` so we also need the `!important` here to be able to override the default hidden behavior on the sphinx rendered scikit-learn.org. See: https://github.com/scikit-learn/scikit-learn/issues/21755 */display: inline-block !important;position: relative;}#sk-container-id-3 div.sk-text-repr-fallback {display: none;}</style><div id=\"sk-container-id-3\" class=\"sk-top-container\"><div class=\"sk-text-repr-fallback\"><pre>GradientBoostingRegressor()</pre><b>In a Jupyter environment, please rerun this cell to show the HTML representation or trust the notebook. <br />On GitHub, the HTML representation is unable to render, please try loading this page with nbviewer.org.</b></div><div class=\"sk-container\" hidden><div class=\"sk-item\"><div class=\"sk-estimator sk-toggleable\"><input class=\"sk-toggleable__control sk-hidden--visually\" id=\"sk-estimator-id-3\" type=\"checkbox\" checked><label for=\"sk-estimator-id-3\" class=\"sk-toggleable__label sk-toggleable__label-arrow\">GradientBoostingRegressor</label><div class=\"sk-toggleable__content\"><pre>GradientBoostingRegressor()</pre></div></div></div></div></div>"
      ],
      "text/plain": [
       "GradientBoostingRegressor()"
      ]
     },
     "execution_count": 182,
     "metadata": {},
     "output_type": "execute_result"
    }
   ],
   "source": [
    "#Model training\n",
    "lr=LinearRegression()\n",
    "lr.fit(x_train,y_train)\n",
    "svm=SVR()\n",
    "svm.fit(x_train,y_train)\n",
    "rf=RandomForestRegressor()\n",
    "rf.fit(x_train,y_train)\n",
    "gr=GradientBoostingRegressor()\n",
    "gr.fit(x_train,y_train)"
   ]
  },
  {
   "cell_type": "code",
   "execution_count": 183,
   "id": "80f09a53",
   "metadata": {},
   "outputs": [],
   "source": [
    "#prediction on test data\n",
    "y_pred1=lr.predict(x_test)\n",
    "y_pred2=svm.predict(x_test)\n",
    "y_pred3=rf.predict(x_test)\n",
    "y_pred4=gr.predict(x_test)\n"
   ]
  },
  {
   "cell_type": "code",
   "execution_count": 184,
   "id": "b0266034",
   "metadata": {},
   "outputs": [],
   "source": [
    "df1=pd.DataFrame({'Actual':y_test,'lr':y_pred1,'svm':y_pred2,'rf':y_pred3,'gr':y_pred4})"
   ]
  },
  {
   "cell_type": "code",
   "execution_count": 185,
   "id": "841c46e5",
   "metadata": {},
   "outputs": [
    {
     "data": {
      "text/html": [
       "<div>\n",
       "<style scoped>\n",
       "    .dataframe tbody tr th:only-of-type {\n",
       "        vertical-align: middle;\n",
       "    }\n",
       "\n",
       "    .dataframe tbody tr th {\n",
       "        vertical-align: top;\n",
       "    }\n",
       "\n",
       "    .dataframe thead th {\n",
       "        text-align: right;\n",
       "    }\n",
       "</style>\n",
       "<table border=\"1\" class=\"dataframe\">\n",
       "  <thead>\n",
       "    <tr style=\"text-align: right;\">\n",
       "      <th></th>\n",
       "      <th>Actual</th>\n",
       "      <th>lr</th>\n",
       "      <th>svm</th>\n",
       "      <th>rf</th>\n",
       "      <th>gr</th>\n",
       "    </tr>\n",
       "  </thead>\n",
       "  <tbody>\n",
       "    <tr>\n",
       "      <th>868</th>\n",
       "      <td>187.2</td>\n",
       "      <td>589.459461</td>\n",
       "      <td>55.851930</td>\n",
       "      <td>360.72391</td>\n",
       "      <td>320.899799</td>\n",
       "    </tr>\n",
       "    <tr>\n",
       "      <th>439</th>\n",
       "      <td>50.4</td>\n",
       "      <td>-66.887110</td>\n",
       "      <td>46.743121</td>\n",
       "      <td>22.92500</td>\n",
       "      <td>56.166022</td>\n",
       "    </tr>\n",
       "    <tr>\n",
       "      <th>342</th>\n",
       "      <td>41.4</td>\n",
       "      <td>4.763430</td>\n",
       "      <td>62.185369</td>\n",
       "      <td>67.31200</td>\n",
       "      <td>117.899049</td>\n",
       "    </tr>\n",
       "    <tr>\n",
       "      <th>735</th>\n",
       "      <td>770.0</td>\n",
       "      <td>365.828739</td>\n",
       "      <td>57.434107</td>\n",
       "      <td>560.21760</td>\n",
       "      <td>370.882435</td>\n",
       "    </tr>\n",
       "    <tr>\n",
       "      <th>784</th>\n",
       "      <td>4.5</td>\n",
       "      <td>-2.062462</td>\n",
       "      <td>57.136609</td>\n",
       "      <td>11.18900</td>\n",
       "      <td>92.544604</td>\n",
       "    </tr>\n",
       "    <tr>\n",
       "      <th>...</th>\n",
       "      <td>...</td>\n",
       "      <td>...</td>\n",
       "      <td>...</td>\n",
       "      <td>...</td>\n",
       "      <td>...</td>\n",
       "    </tr>\n",
       "    <tr>\n",
       "      <th>483</th>\n",
       "      <td>4.0</td>\n",
       "      <td>76.888188</td>\n",
       "      <td>60.565887</td>\n",
       "      <td>9.55850</td>\n",
       "      <td>57.917902</td>\n",
       "    </tr>\n",
       "    <tr>\n",
       "      <th>634</th>\n",
       "      <td>198.0</td>\n",
       "      <td>175.658222</td>\n",
       "      <td>58.763691</td>\n",
       "      <td>105.08960</td>\n",
       "      <td>133.801799</td>\n",
       "    </tr>\n",
       "    <tr>\n",
       "      <th>7</th>\n",
       "      <td>192.0</td>\n",
       "      <td>501.532880</td>\n",
       "      <td>65.577431</td>\n",
       "      <td>166.49800</td>\n",
       "      <td>197.381651</td>\n",
       "    </tr>\n",
       "    <tr>\n",
       "      <th>817</th>\n",
       "      <td>150.0</td>\n",
       "      <td>261.629041</td>\n",
       "      <td>56.522820</td>\n",
       "      <td>349.00297</td>\n",
       "      <td>450.127655</td>\n",
       "    </tr>\n",
       "    <tr>\n",
       "      <th>155</th>\n",
       "      <td>21.0</td>\n",
       "      <td>3.015723</td>\n",
       "      <td>44.884931</td>\n",
       "      <td>22.53850</td>\n",
       "      <td>21.127263</td>\n",
       "    </tr>\n",
       "  </tbody>\n",
       "</table>\n",
       "<p>227 rows × 5 columns</p>\n",
       "</div>"
      ],
      "text/plain": [
       "     Actual          lr        svm         rf          gr\n",
       "868   187.2  589.459461  55.851930  360.72391  320.899799\n",
       "439    50.4  -66.887110  46.743121   22.92500   56.166022\n",
       "342    41.4    4.763430  62.185369   67.31200  117.899049\n",
       "735   770.0  365.828739  57.434107  560.21760  370.882435\n",
       "784     4.5   -2.062462  57.136609   11.18900   92.544604\n",
       "..      ...         ...        ...        ...         ...\n",
       "483     4.0   76.888188  60.565887    9.55850   57.917902\n",
       "634   198.0  175.658222  58.763691  105.08960  133.801799\n",
       "7     192.0  501.532880  65.577431  166.49800  197.381651\n",
       "817   150.0  261.629041  56.522820  349.00297  450.127655\n",
       "155    21.0    3.015723  44.884931   22.53850   21.127263\n",
       "\n",
       "[227 rows x 5 columns]"
      ]
     },
     "execution_count": 185,
     "metadata": {},
     "output_type": "execute_result"
    }
   ],
   "source": [
    "df1"
   ]
  },
  {
   "cell_type": "code",
   "execution_count": 186,
   "id": "fb64b6d9",
   "metadata": {},
   "outputs": [],
   "source": [
    "#compare performance visually\n",
    "import matplotlib.pyplot as plt"
   ]
  },
  {
   "cell_type": "code",
   "execution_count": 187,
   "id": "651af818",
   "metadata": {},
   "outputs": [
    {
     "data": {
      "text/plain": [
       "<matplotlib.legend.Legend at 0x257000e0a00>"
      ]
     },
     "execution_count": 187,
     "metadata": {},
     "output_type": "execute_result"
    },
    {
     "data": {
      "image/png": "[encoded data removed]",
      "text/plain": [
       "<Figure size 576x396 with 4 Axes>"
      ]
     },
     "metadata": {},
     "output_type": "display_data"
    }
   ],
   "source": [
    "plt.subplot(221)\n",
    "plt.plot(df1['Actual'].iloc[0:11],label='Actual')\n",
    "plt.plot(df1['lr'].iloc[0:11],label=\"lr\")\n",
    "plt.legend()\n",
    "plt.subplot(222)\n",
    "plt.plot(df1['Actual'].iloc[0:11],label='Actual')\n",
    "plt.plot(df1['svm'].iloc[0:11],label=\"svm\")\n",
    "plt.legend()\n",
    "plt.subplot(223)\n",
    "plt.plot(df1['Actual'].iloc[0:11],label='Actual')\n",
    "plt.plot(df1['rf'].iloc[0:11],label=\"rf\")\n",
    "plt.legend()\n",
    "plt.subplot(224)\n",
    "plt.plot(df1['Actual'].iloc[0:11],label='Actual')\n",
    "plt.plot(df1['gr'].iloc[0:11],label=\"gr\")\n",
    "plt.tight_layout()\n",
    "plt.legend()"
   ]
  },
  {
   "cell_type": "code",
   "execution_count": 188,
   "id": "4bcbfdcf",
   "metadata": {},
   "outputs": [],
   "source": [
    "#Evaluating the Algorithm\n",
    "from sklearn import metrics"
   ]
  },
  {
   "cell_type": "code",
   "execution_count": 189,
   "id": "12008b50",
   "metadata": {},
   "outputs": [],
   "source": [
    "score1=metrics.r2_score(y_test,y_pred1)\n",
    "score2=metrics.r2_score(y_test,y_pred2)\n",
    "score3=metrics.r2_score(y_test,y_pred3)\n",
    "score4=metrics.r2_score(y_test,y_pred4)"
   ]
  },
  {
   "cell_type": "code",
   "execution_count": 190,
   "id": "00a85347",
   "metadata": {},
   "outputs": [
    {
     "name": "stdout",
     "output_type": "stream",
     "text": [
      "0.5143051230539255 -0.21698948845835053 0.8731457433720922 0.8433357875348468\n"
     ]
    }
   ],
   "source": [
    "print(score1,score2,score3,score4)"
   ]
  },
  {
   "cell_type": "markdown",
   "id": "d2ed5623",
   "metadata": {},
   "source": [
    "RandomForest is our best model"
   ]
  },
  {
   "cell_type": "code",
   "execution_count": 191,
   "id": "b8253dec",
   "metadata": {},
   "outputs": [],
   "source": [
    "s1=metrics.mean_absolute_error(y_test,y_pred1)\n",
    "s2=metrics.mean_absolute_error(y_test,y_pred2)\n",
    "s3=metrics.mean_absolute_error(y_test,y_pred3)\n",
    "s4=metrics.mean_absolute_error(y_test,y_pred4)"
   ]
  },
  {
   "cell_type": "code",
   "execution_count": 192,
   "id": "ed9e80c9",
   "metadata": {},
   "outputs": [
    {
     "name": "stdout",
     "output_type": "stream",
     "text": [
      "233.67043926729386 300.79472397248253 105.52765955947136 118.52146489363656\n"
     ]
    }
   ],
   "source": [
    "print(s1,s2,s3,s4)"
   ]
  },
  {
   "cell_type": "code",
   "execution_count": 193,
   "id": "46bc794f",
   "metadata": {},
   "outputs": [
    {
     "data": {
      "text/html": [
       "<div>\n",
       "<style scoped>\n",
       "    .dataframe tbody tr th:only-of-type {\n",
       "        vertical-align: middle;\n",
       "    }\n",
       "\n",
       "    .dataframe tbody tr th {\n",
       "        vertical-align: top;\n",
       "    }\n",
       "\n",
       "    .dataframe thead th {\n",
       "        text-align: right;\n",
       "    }\n",
       "</style>\n",
       "<table border=\"1\" class=\"dataframe\">\n",
       "  <thead>\n",
       "    <tr style=\"text-align: right;\">\n",
       "      <th></th>\n",
       "      <th>country</th>\n",
       "      <th>country_long</th>\n",
       "      <th>name</th>\n",
       "      <th>gppd_idnr</th>\n",
       "      <th>capacity_mw</th>\n",
       "      <th>latitude</th>\n",
       "      <th>longitude</th>\n",
       "      <th>primary_fuel</th>\n",
       "      <th>other_fuel1</th>\n",
       "      <th>other_fuel2</th>\n",
       "      <th>...</th>\n",
       "      <th>source</th>\n",
       "      <th>url</th>\n",
       "      <th>geolocation_source</th>\n",
       "      <th>year_of_capacity_data</th>\n",
       "      <th>generation_gwh_2014</th>\n",
       "      <th>generation_gwh_2015</th>\n",
       "      <th>generation_gwh_2016</th>\n",
       "      <th>generation_gwh_2017</th>\n",
       "      <th>generation_gwh_2018</th>\n",
       "      <th>generation_data_source</th>\n",
       "    </tr>\n",
       "  </thead>\n",
       "  <tbody>\n",
       "    <tr>\n",
       "      <th>897</th>\n",
       "      <td>0</td>\n",
       "      <td>0</td>\n",
       "      <td>897</td>\n",
       "      <td>868</td>\n",
       "      <td>34.65</td>\n",
       "      <td>8.8709</td>\n",
       "      <td>4.362418</td>\n",
       "      <td>7</td>\n",
       "      <td>3</td>\n",
       "      <td>1</td>\n",
       "      <td>...</td>\n",
       "      <td>21</td>\n",
       "      <td>227</td>\n",
       "      <td>2</td>\n",
       "      <td>NaN</td>\n",
       "      <td>NaN</td>\n",
       "      <td>NaN</td>\n",
       "      <td>NaN</td>\n",
       "      <td>NaN</td>\n",
       "      <td>NaN</td>\n",
       "      <td>1</td>\n",
       "    </tr>\n",
       "    <tr>\n",
       "      <th>898</th>\n",
       "      <td>0</td>\n",
       "      <td>0</td>\n",
       "      <td>898</td>\n",
       "      <td>884</td>\n",
       "      <td>42.00</td>\n",
       "      <td>27.1715</td>\n",
       "      <td>4.272319</td>\n",
       "      <td>7</td>\n",
       "      <td>3</td>\n",
       "      <td>1</td>\n",
       "      <td>...</td>\n",
       "      <td>21</td>\n",
       "      <td>212</td>\n",
       "      <td>2</td>\n",
       "      <td>NaN</td>\n",
       "      <td>NaN</td>\n",
       "      <td>NaN</td>\n",
       "      <td>NaN</td>\n",
       "      <td>NaN</td>\n",
       "      <td>NaN</td>\n",
       "      <td>1</td>\n",
       "    </tr>\n",
       "    <tr>\n",
       "      <th>899</th>\n",
       "      <td>0</td>\n",
       "      <td>0</td>\n",
       "      <td>899</td>\n",
       "      <td>489</td>\n",
       "      <td>600.00</td>\n",
       "      <td>30.1081</td>\n",
       "      <td>4.360876</td>\n",
       "      <td>1</td>\n",
       "      <td>2</td>\n",
       "      <td>1</td>\n",
       "      <td>...</td>\n",
       "      <td>22</td>\n",
       "      <td>58</td>\n",
       "      <td>2</td>\n",
       "      <td>2019.0</td>\n",
       "      <td>8.069455</td>\n",
       "      <td>8.218936</td>\n",
       "      <td>8.047053</td>\n",
       "      <td>8.057394</td>\n",
       "      <td>8.019830</td>\n",
       "      <td>0</td>\n",
       "    </tr>\n",
       "    <tr>\n",
       "      <th>900</th>\n",
       "      <td>0</td>\n",
       "      <td>0</td>\n",
       "      <td>900</td>\n",
       "      <td>633</td>\n",
       "      <td>16.00</td>\n",
       "      <td>17.1653</td>\n",
       "      <td>4.320757</td>\n",
       "      <td>0</td>\n",
       "      <td>3</td>\n",
       "      <td>1</td>\n",
       "      <td>...</td>\n",
       "      <td>189</td>\n",
       "      <td>39</td>\n",
       "      <td>2</td>\n",
       "      <td>NaN</td>\n",
       "      <td>NaN</td>\n",
       "      <td>NaN</td>\n",
       "      <td>NaN</td>\n",
       "      <td>NaN</td>\n",
       "      <td>NaN</td>\n",
       "      <td>1</td>\n",
       "    </tr>\n",
       "    <tr>\n",
       "      <th>901</th>\n",
       "      <td>0</td>\n",
       "      <td>0</td>\n",
       "      <td>901</td>\n",
       "      <td>490</td>\n",
       "      <td>106.60</td>\n",
       "      <td>13.1156</td>\n",
       "      <td>4.364166</td>\n",
       "      <td>5</td>\n",
       "      <td>3</td>\n",
       "      <td>1</td>\n",
       "      <td>...</td>\n",
       "      <td>22</td>\n",
       "      <td>58</td>\n",
       "      <td>2</td>\n",
       "      <td>2019.0</td>\n",
       "      <td>0.000000</td>\n",
       "      <td>0.000000</td>\n",
       "      <td>0.000000</td>\n",
       "      <td>NaN</td>\n",
       "      <td>0.000000</td>\n",
       "      <td>0</td>\n",
       "    </tr>\n",
       "    <tr>\n",
       "      <th>902</th>\n",
       "      <td>0</td>\n",
       "      <td>0</td>\n",
       "      <td>902</td>\n",
       "      <td>491</td>\n",
       "      <td>1600.00</td>\n",
       "      <td>16.2949</td>\n",
       "      <td>4.361273</td>\n",
       "      <td>1</td>\n",
       "      <td>2</td>\n",
       "      <td>1</td>\n",
       "      <td>...</td>\n",
       "      <td>22</td>\n",
       "      <td>58</td>\n",
       "      <td>2</td>\n",
       "      <td>2019.0</td>\n",
       "      <td>NaN</td>\n",
       "      <td>0.690581</td>\n",
       "      <td>5.457868</td>\n",
       "      <td>6.764347</td>\n",
       "      <td>6.533062</td>\n",
       "      <td>0</td>\n",
       "    </tr>\n",
       "    <tr>\n",
       "      <th>903</th>\n",
       "      <td>0</td>\n",
       "      <td>0</td>\n",
       "      <td>903</td>\n",
       "      <td>822</td>\n",
       "      <td>3.00</td>\n",
       "      <td>12.8932</td>\n",
       "      <td>4.371539</td>\n",
       "      <td>6</td>\n",
       "      <td>3</td>\n",
       "      <td>1</td>\n",
       "      <td>...</td>\n",
       "      <td>77</td>\n",
       "      <td>22</td>\n",
       "      <td>0</td>\n",
       "      <td>NaN</td>\n",
       "      <td>NaN</td>\n",
       "      <td>NaN</td>\n",
       "      <td>NaN</td>\n",
       "      <td>NaN</td>\n",
       "      <td>NaN</td>\n",
       "      <td>1</td>\n",
       "    </tr>\n",
       "    <tr>\n",
       "      <th>904</th>\n",
       "      <td>0</td>\n",
       "      <td>0</td>\n",
       "      <td>904</td>\n",
       "      <td>891</td>\n",
       "      <td>25.50</td>\n",
       "      <td>15.2758</td>\n",
       "      <td>4.338350</td>\n",
       "      <td>7</td>\n",
       "      <td>3</td>\n",
       "      <td>1</td>\n",
       "      <td>...</td>\n",
       "      <td>21</td>\n",
       "      <td>260</td>\n",
       "      <td>2</td>\n",
       "      <td>NaN</td>\n",
       "      <td>NaN</td>\n",
       "      <td>NaN</td>\n",
       "      <td>NaN</td>\n",
       "      <td>NaN</td>\n",
       "      <td>NaN</td>\n",
       "      <td>1</td>\n",
       "    </tr>\n",
       "    <tr>\n",
       "      <th>905</th>\n",
       "      <td>0</td>\n",
       "      <td>0</td>\n",
       "      <td>905</td>\n",
       "      <td>539</td>\n",
       "      <td>80.00</td>\n",
       "      <td>24.3500</td>\n",
       "      <td>4.314118</td>\n",
       "      <td>1</td>\n",
       "      <td>3</td>\n",
       "      <td>1</td>\n",
       "      <td>...</td>\n",
       "      <td>59</td>\n",
       "      <td>82</td>\n",
       "      <td>2</td>\n",
       "      <td>NaN</td>\n",
       "      <td>NaN</td>\n",
       "      <td>NaN</td>\n",
       "      <td>NaN</td>\n",
       "      <td>NaN</td>\n",
       "      <td>NaN</td>\n",
       "      <td>1</td>\n",
       "    </tr>\n",
       "    <tr>\n",
       "      <th>906</th>\n",
       "      <td>0</td>\n",
       "      <td>0</td>\n",
       "      <td>906</td>\n",
       "      <td>876</td>\n",
       "      <td>16.50</td>\n",
       "      <td>9.9344</td>\n",
       "      <td>4.362803</td>\n",
       "      <td>7</td>\n",
       "      <td>3</td>\n",
       "      <td>1</td>\n",
       "      <td>...</td>\n",
       "      <td>21</td>\n",
       "      <td>245</td>\n",
       "      <td>2</td>\n",
       "      <td>NaN</td>\n",
       "      <td>NaN</td>\n",
       "      <td>NaN</td>\n",
       "      <td>NaN</td>\n",
       "      <td>NaN</td>\n",
       "      <td>NaN</td>\n",
       "      <td>1</td>\n",
       "    </tr>\n",
       "  </tbody>\n",
       "</table>\n",
       "<p>10 rows × 22 columns</p>\n",
       "</div>"
      ],
      "text/plain": [
       "     country  country_long  name  gppd_idnr  capacity_mw  latitude  longitude  \\\n",
       "897        0             0   897        868        34.65    8.8709   4.362418   \n",
       "898        0             0   898        884        42.00   27.1715   4.272319   \n",
       "899        0             0   899        489       600.00   30.1081   4.360876   \n",
       "900        0             0   900        633        16.00   17.1653   4.320757   \n",
       "901        0             0   901        490       106.60   13.1156   4.364166   \n",
       "902        0             0   902        491      1600.00   16.2949   4.361273   \n",
       "903        0             0   903        822         3.00   12.8932   4.371539   \n",
       "904        0             0   904        891        25.50   15.2758   4.338350   \n",
       "905        0             0   905        539        80.00   24.3500   4.314118   \n",
       "906        0             0   906        876        16.50    9.9344   4.362803   \n",
       "\n",
       "     primary_fuel  other_fuel1  other_fuel2  ...  source  url  \\\n",
       "897             7            3            1  ...      21  227   \n",
       "898             7            3            1  ...      21  212   \n",
       "899             1            2            1  ...      22   58   \n",
       "900             0            3            1  ...     189   39   \n",
       "901             5            3            1  ...      22   58   \n",
       "902             1            2            1  ...      22   58   \n",
       "903             6            3            1  ...      77   22   \n",
       "904             7            3            1  ...      21  260   \n",
       "905             1            3            1  ...      59   82   \n",
       "906             7            3            1  ...      21  245   \n",
       "\n",
       "     geolocation_source  year_of_capacity_data  generation_gwh_2014  \\\n",
       "897                   2                    NaN                  NaN   \n",
       "898                   2                    NaN                  NaN   \n",
       "899                   2                 2019.0             8.069455   \n",
       "900                   2                    NaN                  NaN   \n",
       "901                   2                 2019.0             0.000000   \n",
       "902                   2                 2019.0                  NaN   \n",
       "903                   0                    NaN                  NaN   \n",
       "904                   2                    NaN                  NaN   \n",
       "905                   2                    NaN                  NaN   \n",
       "906                   2                    NaN                  NaN   \n",
       "\n",
       "     generation_gwh_2015  generation_gwh_2016  generation_gwh_2017  \\\n",
       "897                  NaN                  NaN                  NaN   \n",
       "898                  NaN                  NaN                  NaN   \n",
       "899             8.218936             8.047053             8.057394   \n",
       "900                  NaN                  NaN                  NaN   \n",
       "901             0.000000             0.000000                  NaN   \n",
       "902             0.690581             5.457868             6.764347   \n",
       "903                  NaN                  NaN                  NaN   \n",
       "904                  NaN                  NaN                  NaN   \n",
       "905                  NaN                  NaN                  NaN   \n",
       "906                  NaN                  NaN                  NaN   \n",
       "\n",
       "     generation_gwh_2018  generation_data_source  \n",
       "897                  NaN                       1  \n",
       "898                  NaN                       1  \n",
       "899             8.019830                       0  \n",
       "900                  NaN                       1  \n",
       "901             0.000000                       0  \n",
       "902             6.533062                       0  \n",
       "903                  NaN                       1  \n",
       "904                  NaN                       1  \n",
       "905                  NaN                       1  \n",
       "906                  NaN                       1  \n",
       "\n",
       "[10 rows x 22 columns]"
      ]
     },
     "execution_count": 193,
     "metadata": {},
     "output_type": "execute_result"
    }
   ],
   "source": [
    "df.tail(10)"
   ]
  },
  {
   "cell_type": "code",
   "execution_count": 194,
   "id": "cb615b95",
   "metadata": {},
   "outputs": [
    {
     "data": {
      "text/plain": [
       "Index(['country', 'country_long', 'name', 'gppd_idnr', 'capacity_mw',\n",
       "       'latitude', 'longitude', 'primary_fuel', 'other_fuel1', 'other_fuel2',\n",
       "       'commissioning_year', 'owner', 'source', 'url', 'geolocation_source',\n",
       "       'year_of_capacity_data', 'generation_gwh_2014', 'generation_gwh_2015',\n",
       "       'generation_gwh_2016', 'generation_gwh_2017', 'generation_gwh_2018',\n",
       "       'generation_data_source'],\n",
       "      dtype='object')"
      ]
     },
     "execution_count": 194,
     "metadata": {},
     "output_type": "execute_result"
    }
   ],
   "source": [
    "df.columns"
   ]
  },
  {
   "cell_type": "code",
   "execution_count": 195,
   "id": "42a50144",
   "metadata": {},
   "outputs": [
    {
     "data": {
      "text/html": [
       "<div>\n",
       "<style scoped>\n",
       "    .dataframe tbody tr th:only-of-type {\n",
       "        vertical-align: middle;\n",
       "    }\n",
       "\n",
       "    .dataframe tbody tr th {\n",
       "        vertical-align: top;\n",
       "    }\n",
       "\n",
       "    .dataframe thead th {\n",
       "        text-align: right;\n",
       "    }\n",
       "</style>\n",
       "<table border=\"1\" class=\"dataframe\">\n",
       "  <thead>\n",
       "    <tr style=\"text-align: right;\">\n",
       "      <th></th>\n",
       "      <th>country</th>\n",
       "      <th>country_long</th>\n",
       "      <th>name</th>\n",
       "      <th>gddp_idnr</th>\n",
       "      <th>latitude</th>\n",
       "      <th>longitude</th>\n",
       "      <th>primary_fuel</th>\n",
       "      <th>other_fuel1</th>\n",
       "      <th>other_fuel2</th>\n",
       "      <th>commissioning_year</th>\n",
       "      <th>...</th>\n",
       "      <th>generation_gwh_2013</th>\n",
       "      <th>generation_gwh_2014</th>\n",
       "      <th>generation_gwh_2015</th>\n",
       "      <th>generation_gwh_2016</th>\n",
       "      <th>generation_gwh_2017</th>\n",
       "      <th>generation_gwh_2018</th>\n",
       "      <th>generation_gwh_2019</th>\n",
       "      <th>generation_data_source</th>\n",
       "      <th>estimated_generation_gwh</th>\n",
       "      <th>geolocation_source</th>\n",
       "    </tr>\n",
       "  </thead>\n",
       "  <tbody>\n",
       "    <tr>\n",
       "      <th>0</th>\n",
       "      <td>0</td>\n",
       "      <td>0</td>\n",
       "      <td>3</td>\n",
       "      <td>519</td>\n",
       "      <td>24.7663</td>\n",
       "      <td>4.3255</td>\n",
       "      <td>7</td>\n",
       "      <td>3</td>\n",
       "      <td>1</td>\n",
       "      <td>2011</td>\n",
       "      <td>...</td>\n",
       "      <td>8.018</td>\n",
       "      <td>6.427</td>\n",
       "      <td>8.685</td>\n",
       "      <td>8.739</td>\n",
       "      <td>6.499</td>\n",
       "      <td>8.892</td>\n",
       "      <td>6.441</td>\n",
       "      <td>1</td>\n",
       "      <td>4.113</td>\n",
       "      <td>1</td>\n",
       "    </tr>\n",
       "  </tbody>\n",
       "</table>\n",
       "<p>1 rows × 21 columns</p>\n",
       "</div>"
      ],
      "text/plain": [
       "   country  country_long  name  gddp_idnr  latitude  longitude  primary_fuel  \\\n",
       "0        0             0     3        519   24.7663     4.3255             7   \n",
       "\n",
       "   other_fuel1  other_fuel2  commissioning_year  ...  generation_gwh_2013  \\\n",
       "0            3            1                2011  ...                8.018   \n",
       "\n",
       "   generation_gwh_2014  generation_gwh_2015  generation_gwh_2016  \\\n",
       "0                6.427                8.685                8.739   \n",
       "\n",
       "   generation_gwh_2017  generation_gwh_2018  generation_gwh_2019  \\\n",
       "0                6.499                8.892                6.441   \n",
       "\n",
       "   generation_data_source  estimated_generation_gwh  geolocation_source  \n",
       "0                       1                     4.113                   1  \n",
       "\n",
       "[1 rows x 21 columns]"
      ]
     },
     "execution_count": 195,
     "metadata": {},
     "output_type": "execute_result"
    }
   ],
   "source": [
    "#predict the new capacity_mw\n",
    "data={'country':0,'country_long':0,'name':3,'gddp_idnr':519,'latitude':24.7663,'longitude':4.3255,'primary_fuel':7,\n",
    "     'other_fuel1':3,'other_fuel2':1,'commissioning_year':2011,'year_of_capacity_data':2019,'generation_gwh_2013':8.018,\n",
    "     'generation_gwh_2014':6.427,'generation_gwh_2015':8.685,'generation_gwh_2016':8.739,'generation_gwh_2017':6.499,\n",
    "     'generation_gwh_2018':8.892,'generation_gwh_2019':6.441,'generation_data_source':1,'estimated_generation_gwh':4.113,\n",
    "     'geolocation_source':1}\n",
    "df2=pd.DataFrame(data,index=[0])\n",
    "df2"
   ]
  },
  {
   "cell_type": "code",
   "execution_count": 196,
   "id": "3073604c",
   "metadata": {},
   "outputs": [
    {
     "name": "stdout",
     "output_type": "stream",
     "text": [
      "[138.077]\n"
     ]
    }
   ],
   "source": [
    "new_pred=rf.predict(df2)\n",
    "print(new_pred)"
   ]
  },
  {
   "cell_type": "code",
   "execution_count": 197,
   "id": "6f088a7c",
   "metadata": {},
   "outputs": [],
   "source": [
    "import joblib"
   ]
  },
  {
   "cell_type": "code",
   "execution_count": 198,
   "id": "9f162055",
   "metadata": {},
   "outputs": [
    {
     "data": {
      "text/plain": [
       "['model_joblib_rf']"
      ]
     },
     "execution_count": 198,
     "metadata": {},
     "output_type": "execute_result"
    }
   ],
   "source": [
    "joblib.dump(rf,'model_joblib_rf')"
   ]
  },
  {
   "cell_type": "code",
   "execution_count": 199,
   "id": "25f85770",
   "metadata": {},
   "outputs": [],
   "source": [
    "model=joblib.load('model_joblib_rf')"
   ]
  },
  {
   "cell_type": "markdown",
   "id": "dfc4fc53",
   "metadata": {},
   "source": [
    "# Prediction with primary fuel "
   ]
  },
  {
   "cell_type": "code",
   "execution_count": 200,
   "id": "d9b91e5d",
   "metadata": {},
   "outputs": [],
   "source": [
    "from sklearn.metrics import accuracy_score,classification_report,confusion_matrix,roc_auc_score,roc_curve\n",
    "from sklearn.ensemble import RandomForestClassifier\n",
    "from sklearn.linear_model import LogisticRegression\n",
    "from sklearn.tree import DecisionTreeClassifier\n",
    "from sklearn.ensemble import AdaBoostClassifier"
   ]
  },
  {
   "cell_type": "code",
   "execution_count": 201,
   "id": "001bd9a8",
   "metadata": {},
   "outputs": [
    {
     "name": "stdout",
     "output_type": "stream",
     "text": [
      "(907, 21)\n",
      "(907, 1)\n"
     ]
    }
   ],
   "source": [
    "#assign the value of x and y for training and testing phase\n",
    "x_c=df.drop(columns=['primary_fuel'])\n",
    "y_c=df[[\"primary_fuel\"]]\n",
    "print(x_c.shape)\n",
    "print(y_c.shape)"
   ]
  },
  {
   "cell_type": "code",
   "execution_count": 202,
   "id": "1619f91f",
   "metadata": {},
   "outputs": [],
   "source": [
    "#train/test split\n",
    "x_c_train,x_c_test,y_c_train,y_c_test=train_test_split(x_c,y_c,test_size=0.25,random_state=41)"
   ]
  },
  {
   "cell_type": "code",
   "execution_count": 203,
   "id": "4448fb59",
   "metadata": {},
   "outputs": [],
   "source": [
    "knn=KNNImputer()\n",
    "x_c_train=knn.fit_transform(x_train)\n",
    "x_c_test=knn.transform(x_test)"
   ]
  },
  {
   "cell_type": "code",
   "execution_count": 207,
   "id": "e8207319",
   "metadata": {},
   "outputs": [
    {
     "data": {
      "text/html": [
       "<style>#sk-container-id-4 {color: black;background-color: white;}#sk-container-id-4 pre{padding: 0;}#sk-container-id-4 div.sk-toggleable {background-color: white;}#sk-container-id-4 label.sk-toggleable__label {cursor: pointer;display: block;width: 100%;margin-bottom: 0;padding: 0.3em;box-sizing: border-box;text-align: center;}#sk-container-id-4 label.sk-toggleable__label-arrow:before {content: \"▸\";float: left;margin-right: 0.25em;color: #696969;}#sk-container-id-4 label.sk-toggleable__label-arrow:hover:before {color: black;}#sk-container-id-4 div.sk-estimator:hover label.sk-toggleable__label-arrow:before {color: black;}#sk-container-id-4 div.sk-toggleable__content {max-height: 0;max-width: 0;overflow: hidden;text-align: left;background-color: #f0f8ff;}#sk-container-id-4 div.sk-toggleable__content pre {margin: 0.2em;color: black;border-radius: 0.25em;background-color: #f0f8ff;}#sk-container-id-4 input.sk-toggleable__control:checked~div.sk-toggleable__content {max-height: 200px;max-width: 100%;overflow: auto;}#sk-container-id-4 input.sk-toggleable__control:checked~label.sk-toggleable__label-arrow:before {content: \"▾\";}#sk-container-id-4 div.sk-estimator input.sk-toggleable__control:checked~label.sk-toggleable__label {background-color: #d4ebff;}#sk-container-id-4 div.sk-label input.sk-toggleable__control:checked~label.sk-toggleable__label {background-color: #d4ebff;}#sk-container-id-4 input.sk-hidden--visually {border: 0;clip: rect(1px 1px 1px 1px);clip: rect(1px, 1px, 1px, 1px);height: 1px;margin: -1px;overflow: hidden;padding: 0;position: absolute;width: 1px;}#sk-container-id-4 div.sk-estimator {font-family: monospace;background-color: #f0f8ff;border: 1px dotted black;border-radius: 0.25em;box-sizing: border-box;margin-bottom: 0.5em;}#sk-container-id-4 div.sk-estimator:hover {background-color: #d4ebff;}#sk-container-id-4 div.sk-parallel-item::after {content: \"\";width: 100%;border-bottom: 1px solid gray;flex-grow: 1;}#sk-container-id-4 div.sk-label:hover label.sk-toggleable__label {background-color: #d4ebff;}#sk-container-id-4 div.sk-serial::before {content: \"\";position: absolute;border-left: 1px solid gray;box-sizing: border-box;top: 0;bottom: 0;left: 50%;z-index: 0;}#sk-container-id-4 div.sk-serial {display: flex;flex-direction: column;align-items: center;background-color: white;padding-right: 0.2em;padding-left: 0.2em;position: relative;}#sk-container-id-4 div.sk-item {position: relative;z-index: 1;}#sk-container-id-4 div.sk-parallel {display: flex;align-items: stretch;justify-content: center;background-color: white;position: relative;}#sk-container-id-4 div.sk-item::before, #sk-container-id-4 div.sk-parallel-item::before {content: \"\";position: absolute;border-left: 1px solid gray;box-sizing: border-box;top: 0;bottom: 0;left: 50%;z-index: -1;}#sk-container-id-4 div.sk-parallel-item {display: flex;flex-direction: column;z-index: 1;position: relative;background-color: white;}#sk-container-id-4 div.sk-parallel-item:first-child::after {align-self: flex-end;width: 50%;}#sk-container-id-4 div.sk-parallel-item:last-child::after {align-self: flex-start;width: 50%;}#sk-container-id-4 div.sk-parallel-item:only-child::after {width: 0;}#sk-container-id-4 div.sk-dashed-wrapped {border: 1px dashed gray;margin: 0 0.4em 0.5em 0.4em;box-sizing: border-box;padding-bottom: 0.4em;background-color: white;}#sk-container-id-4 div.sk-label label {font-family: monospace;font-weight: bold;display: inline-block;line-height: 1.2em;}#sk-container-id-4 div.sk-label-container {text-align: center;}#sk-container-id-4 div.sk-container {/* jupyter's `normalize.less` sets `[hidden] { display: none; }` but bootstrap.min.css set `[hidden] { display: none !important; }` so we also need the `!important` here to be able to override the default hidden behavior on the sphinx rendered scikit-learn.org. See: https://github.com/scikit-learn/scikit-learn/issues/21755 */display: inline-block !important;position: relative;}#sk-container-id-4 div.sk-text-repr-fallback {display: none;}</style><div id=\"sk-container-id-4\" class=\"sk-top-container\"><div class=\"sk-text-repr-fallback\"><pre>AdaBoostClassifier()</pre><b>In a Jupyter environment, please rerun this cell to show the HTML representation or trust the notebook. <br />On GitHub, the HTML representation is unable to render, please try loading this page with nbviewer.org.</b></div><div class=\"sk-container\" hidden><div class=\"sk-item\"><div class=\"sk-estimator sk-toggleable\"><input class=\"sk-toggleable__control sk-hidden--visually\" id=\"sk-estimator-id-4\" type=\"checkbox\" checked><label for=\"sk-estimator-id-4\" class=\"sk-toggleable__label sk-toggleable__label-arrow\">AdaBoostClassifier</label><div class=\"sk-toggleable__content\"><pre>AdaBoostClassifier()</pre></div></div></div></div></div>"
      ],
      "text/plain": [
       "AdaBoostClassifier()"
      ]
     },
     "execution_count": 207,
     "metadata": {},
     "output_type": "execute_result"
    }
   ],
   "source": [
    "lr=LogisticRegression()\n",
    "dt=DecisionTreeClassifier()\n",
    "rf=RandomForestClassifier()\n",
    "adb=AdaBoostClassifier()\n",
    "\n",
    "lr.fit(x_c_train, y_c_train)\n",
    "dt.fit(x_c_train, y_c_train)\n",
    "rf.fit(x_c_train, y_c_train)\n",
    "adb.fit(x_c_train, y_c_train)"
   ]
  },
  {
   "cell_type": "code",
   "execution_count": 208,
   "id": "494c7405",
   "metadata": {},
   "outputs": [
    {
     "name": "stdout",
     "output_type": "stream",
     "text": [
      "lr classification score 0.31029411764705883\n",
      "dt classification score 1.0\n",
      "rf classification score 1.0\n",
      "adb classification score 0.2897058823529412\n"
     ]
    }
   ],
   "source": [
    "print(\"lr classification score\", lr.score(x_c_train, y_c_train))\n",
    "print(\"dt classification score\", dt.score(x_c_train, y_c_train))\n",
    "print(\"rf classification score\", rf.score(x_c_train, y_c_train))\n",
    "print(\"adb classification score\", adb.score(x_c_train, y_c_train))"
   ]
  },
  {
   "cell_type": "markdown",
   "id": "c08d7494",
   "metadata": {},
   "source": [
    "# Model Evaluation:"
   ]
  },
  {
   "cell_type": "code",
   "execution_count": 209,
   "id": "2a8faed0",
   "metadata": {},
   "outputs": [],
   "source": [
    "lr_ypred=lr.predict(x_c_test)\n",
    "dt_ypred=dt.predict(x_c_test)\n",
    "rf_ypred=rf.predict(x_c_test)\n",
    "adb_ypred=adb.predict(x_c_test)"
   ]
  },
  {
   "cell_type": "code",
   "execution_count": 210,
   "id": "b47e9aad",
   "metadata": {},
   "outputs": [
    {
     "name": "stdout",
     "output_type": "stream",
     "text": [
      "[[ 0  6  0  6  0  0  0  0]\n",
      " [ 0 50  0 22  0  0  1  0]\n",
      " [ 0 12  0  4  0  0  1  0]\n",
      " [ 0 46  0 13  0  0  1  0]\n",
      " [ 0  2  0  0  0  0  0  0]\n",
      " [ 0  8  0  1  0  0  0  0]\n",
      " [ 0 21  0  3  0  0  0  0]\n",
      " [ 0 19  0 11  0  0  0  0]]\n"
     ]
    }
   ],
   "source": [
    "#Using confusion matrix in order to evaluate the model accuracy\n",
    "lr_conf_mat=confusion_matrix(y_c_test, lr_ypred)\n",
    "print(lr_conf_mat)"
   ]
  },
  {
   "cell_type": "code",
   "execution_count": 211,
   "id": "055dda12",
   "metadata": {},
   "outputs": [
    {
     "name": "stdout",
     "output_type": "stream",
     "text": [
      "[[ 1  3  0  7  0  0  0  1]\n",
      " [ 8 20  2 24  2  1  9  7]\n",
      " [ 0  4  2  6  0  1  1  3]\n",
      " [ 4 14  2 13  1  2 10 14]\n",
      " [ 0  1  0  0  0  0  0  1]\n",
      " [ 1  1  1  4  0  0  0  2]\n",
      " [ 2  3  1  7  0  0  6  5]\n",
      " [ 0  9  4  7  0  1  5  4]]\n"
     ]
    }
   ],
   "source": [
    "dt_conf_mat=confusion_matrix(y_c_test, dt_ypred)\n",
    "print(dt_conf_mat)"
   ]
  },
  {
   "cell_type": "code",
   "execution_count": 212,
   "id": "e91a99c6",
   "metadata": {},
   "outputs": [
    {
     "name": "stdout",
     "output_type": "stream",
     "text": [
      "[[ 1  4  0  5  0  0  0  2]\n",
      " [ 1 37  2 22  0  0  5  6]\n",
      " [ 0  8  0  6  0  1  2  0]\n",
      " [ 0 26  1 22  0  0  8  3]\n",
      " [ 0  1  0  1  0  0  0  0]\n",
      " [ 0  1  1  6  0  0  0  1]\n",
      " [ 1  8  0 11  0  0  4  0]\n",
      " [ 0 12  3 11  0  0  3  1]]\n"
     ]
    }
   ],
   "source": [
    "rf_conf_mat=confusion_matrix(y_c_test, rf_ypred)\n",
    "print(rf_conf_mat)"
   ]
  },
  {
   "cell_type": "code",
   "execution_count": 213,
   "id": "7089c41d",
   "metadata": {},
   "outputs": [
    {
     "name": "stdout",
     "output_type": "stream",
     "text": [
      "[[ 1  3  0  6  0  0  0  2]\n",
      " [ 8 21  0 34  0  4  0  6]\n",
      " [ 4  6  0  4  1  1  0  1]\n",
      " [ 2 20  0 28  1  5  3  1]\n",
      " [ 1  0  0  1  0  0  0  0]\n",
      " [ 0  3  0  5  0  0  0  1]\n",
      " [ 4  9  0  8  0  3  0  0]\n",
      " [ 5 11  0  9  0  3  0  2]]\n"
     ]
    }
   ],
   "source": [
    "adb_conf_mat=confusion_matrix(y_c_test, adb_ypred)\n",
    "print(adb_conf_mat)"
   ]
  },
  {
   "cell_type": "markdown",
   "id": "c2d74414",
   "metadata": {},
   "source": [
    "# Checking classification report for each model"
   ]
  },
  {
   "cell_type": "code",
   "execution_count": 214,
   "id": "2216e6de",
   "metadata": {},
   "outputs": [
    {
     "name": "stdout",
     "output_type": "stream",
     "text": [
      "              precision    recall  f1-score   support\n",
      "\n",
      "           0       0.00      0.00      0.00        12\n",
      "           1       0.30      0.68      0.42        73\n",
      "           2       0.00      0.00      0.00        17\n",
      "           3       0.22      0.22      0.22        60\n",
      "           4       0.00      0.00      0.00         2\n",
      "           5       0.00      0.00      0.00         9\n",
      "           6       0.00      0.00      0.00        24\n",
      "           7       0.00      0.00      0.00        30\n",
      "\n",
      "    accuracy                           0.28       227\n",
      "   macro avg       0.07      0.11      0.08       227\n",
      "weighted avg       0.16      0.28      0.19       227\n",
      "\n"
     ]
    }
   ],
   "source": [
    "lr_report=classification_report(y_c_test, lr_ypred)\n",
    "print(lr_report)"
   ]
  },
  {
   "cell_type": "code",
   "execution_count": 215,
   "id": "374914aa",
   "metadata": {},
   "outputs": [
    {
     "name": "stdout",
     "output_type": "stream",
     "text": [
      "              precision    recall  f1-score   support\n",
      "\n",
      "           0       0.06      0.08      0.07        12\n",
      "           1       0.36      0.27      0.31        73\n",
      "           2       0.17      0.12      0.14        17\n",
      "           3       0.19      0.22      0.20        60\n",
      "           4       0.00      0.00      0.00         2\n",
      "           5       0.00      0.00      0.00         9\n",
      "           6       0.19      0.25      0.22        24\n",
      "           7       0.11      0.13      0.12        30\n",
      "\n",
      "    accuracy                           0.20       227\n",
      "   macro avg       0.14      0.13      0.13       227\n",
      "weighted avg       0.22      0.20      0.21       227\n",
      "\n"
     ]
    }
   ],
   "source": [
    "dt_report=classification_report(y_c_test, dt_ypred)\n",
    "print(dt_report)"
   ]
  },
  {
   "cell_type": "code",
   "execution_count": 216,
   "id": "8bed1782",
   "metadata": {},
   "outputs": [
    {
     "name": "stdout",
     "output_type": "stream",
     "text": [
      "              precision    recall  f1-score   support\n",
      "\n",
      "           0       0.33      0.08      0.13        12\n",
      "           1       0.38      0.51      0.44        73\n",
      "           2       0.00      0.00      0.00        17\n",
      "           3       0.26      0.37      0.31        60\n",
      "           4       0.00      0.00      0.00         2\n",
      "           5       0.00      0.00      0.00         9\n",
      "           6       0.18      0.17      0.17        24\n",
      "           7       0.08      0.03      0.05        30\n",
      "\n",
      "    accuracy                           0.29       227\n",
      "   macro avg       0.15      0.14      0.14       227\n",
      "weighted avg       0.24      0.29      0.25       227\n",
      "\n"
     ]
    }
   ],
   "source": [
    "rf_report=classification_report(y_c_test, rf_ypred)\n",
    "print(rf_report)"
   ]
  },
  {
   "cell_type": "code",
   "execution_count": 217,
   "id": "e232e1ca",
   "metadata": {},
   "outputs": [
    {
     "name": "stdout",
     "output_type": "stream",
     "text": [
      "              precision    recall  f1-score   support\n",
      "\n",
      "           0       0.04      0.08      0.05        12\n",
      "           1       0.29      0.29      0.29        73\n",
      "           2       0.00      0.00      0.00        17\n",
      "           3       0.29      0.47      0.36        60\n",
      "           4       0.00      0.00      0.00         2\n",
      "           5       0.00      0.00      0.00         9\n",
      "           6       0.00      0.00      0.00        24\n",
      "           7       0.15      0.07      0.09        30\n",
      "\n",
      "    accuracy                           0.23       227\n",
      "   macro avg       0.10      0.11      0.10       227\n",
      "weighted avg       0.19      0.23      0.20       227\n",
      "\n"
     ]
    }
   ],
   "source": [
    "adb_report=classification_report(y_c_test, adb_ypred)\n",
    "print(adb_report)"
   ]
  },
  {
   "cell_type": "markdown",
   "id": "5cc472da",
   "metadata": {},
   "source": [
    "# ROC AUC CURVE"
   ]
  },
  {
   "cell_type": "code",
   "execution_count": 219,
   "id": "4067fa63",
   "metadata": {},
   "outputs": [
    {
     "data": {
      "image/png": "[encoded data removed]",
      "text/plain": [
       "<Figure size 500x500 with 1 Axes>"
      ]
     },
     "metadata": {},
     "output_type": "display_data"
    }
   ],
   "source": [
    "#plot ROC and compare AUC\n",
    "from sklearn.metrics import roc_curve,auc\n",
    "rfc_fpr,rfc_tpr,threshold=roc_curve(y_c_test,pred_rfc,pos_label=True)\n",
    "auc_rfc=auc(rfc_fpr,rfc_tpr)\n",
    "lr_fpr,lr_tpr,threshold=roc_curve(y_c_test,pred_lr,pos_label=True)\n",
    "auc_lr=auc(lr_fpr,lr_tpr)\n",
    "dt_fpr,dt_tpr,threshold=roc_curve(y_c_test,pred_dt,pos_label=True)\n",
    "auc_dt=auc(dt_fpr,dt_tpr)\n",
    "ab_fpr,ab_tpr,threshold=roc_curve(y_c_test,pred_ab,pos_label=True)\n",
    "auc_ab=auc(ab_fpr,ab_tpr)\n",
    "plt.figure(figsize=(5,5),dpi=100)\n",
    "plt.plot(rfc_fpr,rfc_tpr,linestyle='dashed',label='rfc(auc=%0.3f)'%auc_rfc)\n",
    "plt.plot(lr_fpr,lr_tpr,linestyle='dashed',label='lr(auc=%0.3f)'%auc_lr)\n",
    "plt.plot(dt_fpr,dt_tpr,linestyle='dashed',label='dt(auc=%0.3f)'%auc_dt)\n",
    "plt.plot(ab_fpr,ab_tpr,linestyle='dashed',label='ab(auc=%0.3f)'%auc_ab)\n",
    "plt.xlabel('False Positive Rate-->')\n",
    "plt.ylabel('True Positive Rate-->')\n",
    "plt.legend()\n",
    "plt.show()"
   ]
  },
  {
   "cell_type": "markdown",
   "id": "3f88fdef",
   "metadata": {},
   "source": [
    "here,LogisticRegression is our best model."
   ]
  },
  {
   "cell_type": "code",
   "execution_count": 106,
   "id": "be06805a",
   "metadata": {},
   "outputs": [],
   "source": [
    "#Hyperparameter tuning\n",
    "lr=LogisticRegression()"
   ]
  },
  {
   "cell_type": "code",
   "execution_count": 107,
   "id": "3c676e26",
   "metadata": {},
   "outputs": [],
   "source": [
    "param_grid=[{'penalty':['l1','l2','elasticnet'],\n",
    "            'C':np.logspace(-4,4,20),\n",
    "            'solver':['lbfgs','newton-cg','liblinear','sag','saga'],\n",
    "            'max_iter':[100,1000]}]"
   ]
  },
  {
   "cell_type": "code",
   "execution_count": 108,
   "id": "e9f7692f",
   "metadata": {},
   "outputs": [],
   "source": [
    "clf=GridSearchCV(lr,param_grid=param_grid,cv=3,verbose=True,n_jobs=-1)"
   ]
  },
  {
   "cell_type": "code",
   "execution_count": 109,
   "id": "b2d0b08c",
   "metadata": {},
   "outputs": [
    {
     "name": "stdout",
     "output_type": "stream",
     "text": [
      "Fitting 3 folds for each of 600 candidates, totalling 1800 fits\n"
     ]
    }
   ],
   "source": [
    "best_clf=clf.fit(x_c_train,y_c_train)"
   ]
  },
  {
   "cell_type": "code",
   "execution_count": 110,
   "id": "b82ba711",
   "metadata": {},
   "outputs": [
    {
     "data": {
      "text/html": [
       "<style>#sk-container-id-2 {color: black;background-color: white;}#sk-container-id-2 pre{padding: 0;}#sk-container-id-2 div.sk-toggleable {background-color: white;}#sk-container-id-2 label.sk-toggleable__label {cursor: pointer;display: block;width: 100%;margin-bottom: 0;padding: 0.3em;box-sizing: border-box;text-align: center;}#sk-container-id-2 label.sk-toggleable__label-arrow:before {content: \"▸\";float: left;margin-right: 0.25em;color: #696969;}#sk-container-id-2 label.sk-toggleable__label-arrow:hover:before {color: black;}#sk-container-id-2 div.sk-estimator:hover label.sk-toggleable__label-arrow:before {color: black;}#sk-container-id-2 div.sk-toggleable__content {max-height: 0;max-width: 0;overflow: hidden;text-align: left;background-color: #f0f8ff;}#sk-container-id-2 div.sk-toggleable__content pre {margin: 0.2em;color: black;border-radius: 0.25em;background-color: #f0f8ff;}#sk-container-id-2 input.sk-toggleable__control:checked~div.sk-toggleable__content {max-height: 200px;max-width: 100%;overflow: auto;}#sk-container-id-2 input.sk-toggleable__control:checked~label.sk-toggleable__label-arrow:before {content: \"▾\";}#sk-container-id-2 div.sk-estimator input.sk-toggleable__control:checked~label.sk-toggleable__label {background-color: #d4ebff;}#sk-container-id-2 div.sk-label input.sk-toggleable__control:checked~label.sk-toggleable__label {background-color: #d4ebff;}#sk-container-id-2 input.sk-hidden--visually {border: 0;clip: rect(1px 1px 1px 1px);clip: rect(1px, 1px, 1px, 1px);height: 1px;margin: -1px;overflow: hidden;padding: 0;position: absolute;width: 1px;}#sk-container-id-2 div.sk-estimator {font-family: monospace;background-color: #f0f8ff;border: 1px dotted black;border-radius: 0.25em;box-sizing: border-box;margin-bottom: 0.5em;}#sk-container-id-2 div.sk-estimator:hover {background-color: #d4ebff;}#sk-container-id-2 div.sk-parallel-item::after {content: \"\";width: 100%;border-bottom: 1px solid gray;flex-grow: 1;}#sk-container-id-2 div.sk-label:hover label.sk-toggleable__label {background-color: #d4ebff;}#sk-container-id-2 div.sk-serial::before {content: \"\";position: absolute;border-left: 1px solid gray;box-sizing: border-box;top: 0;bottom: 0;left: 50%;z-index: 0;}#sk-container-id-2 div.sk-serial {display: flex;flex-direction: column;align-items: center;background-color: white;padding-right: 0.2em;padding-left: 0.2em;position: relative;}#sk-container-id-2 div.sk-item {position: relative;z-index: 1;}#sk-container-id-2 div.sk-parallel {display: flex;align-items: stretch;justify-content: center;background-color: white;position: relative;}#sk-container-id-2 div.sk-item::before, #sk-container-id-2 div.sk-parallel-item::before {content: \"\";position: absolute;border-left: 1px solid gray;box-sizing: border-box;top: 0;bottom: 0;left: 50%;z-index: -1;}#sk-container-id-2 div.sk-parallel-item {display: flex;flex-direction: column;z-index: 1;position: relative;background-color: white;}#sk-container-id-2 div.sk-parallel-item:first-child::after {align-self: flex-end;width: 50%;}#sk-container-id-2 div.sk-parallel-item:last-child::after {align-self: flex-start;width: 50%;}#sk-container-id-2 div.sk-parallel-item:only-child::after {width: 0;}#sk-container-id-2 div.sk-dashed-wrapped {border: 1px dashed gray;margin: 0 0.4em 0.5em 0.4em;box-sizing: border-box;padding-bottom: 0.4em;background-color: white;}#sk-container-id-2 div.sk-label label {font-family: monospace;font-weight: bold;display: inline-block;line-height: 1.2em;}#sk-container-id-2 div.sk-label-container {text-align: center;}#sk-container-id-2 div.sk-container {/* jupyter's `normalize.less` sets `[hidden] { display: none; }` but bootstrap.min.css set `[hidden] { display: none !important; }` so we also need the `!important` here to be able to override the default hidden behavior on the sphinx rendered scikit-learn.org. See: https://github.com/scikit-learn/scikit-learn/issues/21755 */display: inline-block !important;position: relative;}#sk-container-id-2 div.sk-text-repr-fallback {display: none;}</style><div id=\"sk-container-id-2\" class=\"sk-top-container\"><div class=\"sk-text-repr-fallback\"><pre>LogisticRegression(C=0.00026366508987303583, penalty=&#x27;l1&#x27;, solver=&#x27;liblinear&#x27;)</pre><b>In a Jupyter environment, please rerun this cell to show the HTML representation or trust the notebook. <br />On GitHub, the HTML representation is unable to render, please try loading this page with nbviewer.org.</b></div><div class=\"sk-container\" hidden><div class=\"sk-item\"><div class=\"sk-estimator sk-toggleable\"><input class=\"sk-toggleable__control sk-hidden--visually\" id=\"sk-estimator-id-2\" type=\"checkbox\" checked><label for=\"sk-estimator-id-2\" class=\"sk-toggleable__label sk-toggleable__label-arrow\">LogisticRegression</label><div class=\"sk-toggleable__content\"><pre>LogisticRegression(C=0.00026366508987303583, penalty=&#x27;l1&#x27;, solver=&#x27;liblinear&#x27;)</pre></div></div></div></div></div>"
      ],
      "text/plain": [
       "LogisticRegression(C=0.00026366508987303583, penalty='l1', solver='liblinear')"
      ]
     },
     "execution_count": 110,
     "metadata": {},
     "output_type": "execute_result"
    }
   ],
   "source": [
    "best_clf.best_estimator_"
   ]
  },
  {
   "cell_type": "code",
   "execution_count": 111,
   "id": "424feb15",
   "metadata": {},
   "outputs": [
    {
     "name": "stdout",
     "output_type": "stream",
     "text": [
      "Accuracy-:0.281\n"
     ]
    }
   ],
   "source": [
    "print(f'Accuracy-:{best_clf.score(x_c_train,y_c_train):.3f}')"
   ]
  },
  {
   "cell_type": "code",
   "execution_count": 115,
   "id": "e6a158e3",
   "metadata": {},
   "outputs": [],
   "source": [
    "#save the model\n",
    "import joblib"
   ]
  },
  {
   "cell_type": "code",
   "execution_count": 116,
   "id": "bbf0a85c",
   "metadata": {},
   "outputs": [
    {
     "data": {
      "text/plain": [
       "['model_joblib_lr']"
      ]
     },
     "execution_count": 116,
     "metadata": {},
     "output_type": "execute_result"
    }
   ],
   "source": [
    "joblib.dump(lr,'model_joblib_lr')"
   ]
  },
  {
   "cell_type": "code",
   "execution_count": 117,
   "id": "40ef79fa",
   "metadata": {},
   "outputs": [],
   "source": [
    "model=joblib.load('model_joblib_lr')"
   ]
  },
  {
   "cell_type": "code",
   "execution_count": null,
   "id": "fd06682a",
   "metadata": {},
   "outputs": [],
   "source": []
  }
 ],
 "metadata": {
  "kernelspec": {
   "display_name": "Python 3 (ipykernel)",
   "language": "python",
   "name": "python3"
  },
  "language_info": {
   "codemirror_mode": {
    "name": "ipython",
    "version": 3
   },
   "file_extension": ".py",
   "mimetype": "text/x-python",
   "name": "python",
   "nbconvert_exporter": "python",
   "pygments_lexer": "ipython3",
   "version": "3.9.12"
  }
 },
 "nbformat": 4,
 "nbformat_minor": 5
}
